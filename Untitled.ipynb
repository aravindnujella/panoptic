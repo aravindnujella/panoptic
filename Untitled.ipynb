{
 "cells": [
  {
   "cell_type": "code",
   "execution_count": 3,
   "metadata": {
    "ExecuteTime": {
     "end_time": "2018-09-20T16:18:18.777320Z",
     "start_time": "2018-09-20T16:18:18.772276Z"
    }
   },
   "outputs": [],
   "source": [
    "import torch\n",
    "import torch.nn as nn\n",
    "import torch.utils.model_zoo as model_zoo\n",
    "import torchvision.models as models"
   ]
  },
  {
   "cell_type": "code",
   "execution_count": 4,
   "metadata": {
    "ExecuteTime": {
     "end_time": "2018-09-20T16:18:18.934552Z",
     "start_time": "2018-09-20T16:18:18.930104Z"
    }
   },
   "outputs": [],
   "source": [
    "model_urls = {\n",
    "    'resnet50': 'https://download.pytorch.org/models/resnet50-19c8e357.pth',\n",
    "    'resnet101': 'https://download.pytorch.org/models/resnet101-5d3b4d8f.pth',\n",
    "    'resnet152': 'https://download.pytorch.org/models/resnet152-b121ed2d.pth',\n",
    "}"
   ]
  },
  {
   "cell_type": "code",
   "execution_count": 9,
   "metadata": {
    "ExecuteTime": {
     "end_time": "2018-09-20T17:53:17.941080Z",
     "start_time": "2018-09-20T17:53:17.933082Z"
    }
   },
   "outputs": [],
   "source": [
    "class split_conv(nn.Module):\n",
    "    def __init__(self, cur_in, cur_out, d_out, *args, **kwargs):\n",
    "        super(split_conv, self).__init__()\n",
    "        self.ignore_conv = nn.Conv2d(cur_in, cur_out, *args, **kwargs)\n",
    "        self.copy_conv = nn.Conv2d(cur_in, d_out, *args, **kwargs)\n",
    "\n",
    "    def forward(self, x):\n",
    "        ig, cp = x\n",
    "        feats = torch.cat([ig,cp],1)\n",
    "        ignore_feats = self.ignore_conv(feats)\n",
    "        copy_feats = self.copy_conv(feats)\n",
    "        return ignore_feats, copy_feats"
   ]
  },
  {
   "cell_type": "code",
   "execution_count": 10,
   "metadata": {
    "ExecuteTime": {
     "end_time": "2018-09-20T17:53:18.725331Z",
     "start_time": "2018-09-20T17:53:18.721790Z"
    }
   },
   "outputs": [],
   "source": [
    "class split_bn(nn.Module):\n",
    "    def __init__(self, cur_in, d_in, *args, **kwargs):\n",
    "        super(split_bn, self).__init__()\n",
    "        self.ignore_bn = nn.BatchNorm2d(cur_in, *args, **kwargs)\n",
    "        self.copy_bn = nn.BatchNorm2d(d_in, *args, **kwargs)\n",
    "    def forward(self, x):\n",
    "        ig, cp = x\n",
    "        return self.ignore_bn(ig), self.cp_bn(cp)"
   ]
  },
  {
   "cell_type": "code",
   "execution_count": 11,
   "metadata": {
    "ExecuteTime": {
     "end_time": "2018-09-20T17:59:42.425360Z",
     "start_time": "2018-09-20T17:59:42.412086Z"
    }
   },
   "outputs": [],
   "source": [
    "class Bottleneck(nn.Module):\n",
    "    expansion = 4\n",
    "\n",
    "    def __init__(self, inplanes, planes, d_out, stride=1, downsample=None):\n",
    "        super(Bottleneck, self).__init__()\n",
    "        self.conv1 = split_conv(inplanes, planes, d_out, kernel_size=1)\n",
    "        self.bn1 = split_bn(planes, d_out)\n",
    "        self.conv2 = split_conv(planes, planes, d_out, kernel_size=3, stride=stride,\n",
    "                                padding=1)\n",
    "        self.bn2 = split_bn(planes, d_out)\n",
    "        self.conv3 = split_conv(planes, planes * self.expansion, d_out * self.expansion, kernel_size=1)\n",
    "        self.bn3 = split_bn(planes * self.expansion, d_out * self.expansion)\n",
    "        self.relu = nn.ReLU(inplace=True)\n",
    "        self.downsample = downsample\n",
    "        self.stride = stride\n",
    "\n",
    "    def forward(self, x):\n",
    "        residual = x\n",
    "\n",
    "        out = self.conv1(x)\n",
    "        out = self.bn1(out)\n",
    "        out = self.relu(out)\n",
    "\n",
    "        out = self.conv2(out)\n",
    "        out = self.bn2(out)\n",
    "        out = self.relu(out)\n",
    "\n",
    "        out = self.conv3(out)\n",
    "        out = self.bn3(out)\n",
    "\n",
    "        ig, cp = out\n",
    "        out = torch.cat([ig,cp],1)\n",
    "        \n",
    "        if self.downsample is not None:\n",
    "            residual = self.downsample(x)\n",
    "\n",
    "        out += residual\n",
    "        out = self.relu(out)\n",
    "\n",
    "        return out"
   ]
  },
  {
   "cell_type": "code",
   "execution_count": null,
   "metadata": {},
   "outputs": [],
   "source": []
  }
 ],
 "metadata": {
  "kernelspec": {
   "display_name": "Python 3",
   "language": "python",
   "name": "python3"
  },
  "language_info": {
   "codemirror_mode": {
    "name": "ipython",
    "version": 3
   },
   "file_extension": ".py",
   "mimetype": "text/x-python",
   "name": "python",
   "nbconvert_exporter": "python",
   "pygments_lexer": "ipython3",
   "version": "3.6.5"
  }
 },
 "nbformat": 4,
 "nbformat_minor": 2
}

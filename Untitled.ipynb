{
 "cells": [
  {
   "cell_type": "code",
   "execution_count": null,
   "metadata": {
    "ExecuteTime": {
     "end_time": "2018-10-10T12:50:27.524954Z",
     "start_time": "2018-10-10T12:50:27.216455Z"
    }
   },
   "outputs": [],
   "source": [
    "# script written to check if dataloader is working fine :)\n",
    "import base_config\n",
    "import pan_loader"
   ]
  },
  {
   "cell_type": "code",
   "execution_count": null,
   "metadata": {
    "ExecuteTime": {
     "end_time": "2018-10-10T12:50:27.531564Z",
     "start_time": "2018-10-10T12:50:27.527471Z"
    }
   },
   "outputs": [],
   "source": [
    "data_dir = \"/home/aravind/dataset/\"\n",
    "ann_dir = data_dir + \"annotations/panoptic/\"\n",
    "\n",
    "train_img_dir = data_dir + \"train2017/\"\n",
    "train_seg_dir = ann_dir + \"panoptic_train2017/\"\n",
    "train_ann_json = ann_dir + \"panoptic_train2017.json\"\n",
    "\n",
    "val_img_dir = data_dir + \"val2017/\"\n",
    "val_seg_dir = ann_dir + \"panoptic_val2017/\"\n",
    "val_ann_json = ann_dir + \"panoptic_val2017.json\"\n",
    "\n",
    "train_img_dir = val_img_dir \n",
    "train_seg_dir = val_seg_dir \n",
    "train_ann_json = val_ann_json "
   ]
  },
  {
   "cell_type": "code",
   "execution_count": null,
   "metadata": {
    "ExecuteTime": {
     "end_time": "2018-10-10T12:50:28.024276Z",
     "start_time": "2018-10-10T12:50:27.533806Z"
    }
   },
   "outputs": [],
   "source": [
    "with open(val_ann_json,\"r\") as f:\n",
    "    val_ann = json.load(f)\n",
    "with open(train_ann_json,\"r\") as f:\n",
    "    train_ann = json.load(f)"
   ]
  },
  {
   "cell_type": "code",
   "execution_count": null,
   "metadata": {
    "ExecuteTime": {
     "end_time": "2018-10-10T12:50:28.029179Z",
     "start_time": "2018-10-10T12:50:28.026458Z"
    }
   },
   "outputs": [],
   "source": [
    "config = base_config.Config()"
   ]
  },
  {
   "cell_type": "code",
   "execution_count": null,
   "metadata": {
    "ExecuteTime": {
     "end_time": "2018-10-10T12:50:28.065882Z",
     "start_time": "2018-10-10T12:50:28.031225Z"
    }
   },
   "outputs": [],
   "source": [
    "train_loader = pan_loader.get_loader(train_img_dir, train_seg_dir, train_ann, config)\n",
    "val_loader = pan_loader.get_loader(val_img_dir, val_seg_dir, val_ann, config)\n",
    "train_dataset = pan_loader.CocoDataset(train_img_dir, train_seg_dir, train_ann, config)"
   ]
  },
  {
   "cell_type": "code",
   "execution_count": null,
   "metadata": {
    "ExecuteTime": {
     "end_time": "2018-10-10T12:50:33.094232Z",
     "start_time": "2018-10-10T12:50:28.068280Z"
    }
   },
   "outputs": [],
   "source": [
    "for i in range(50,60):\n",
    "    print(i)\n",
    "    data = train_dataset[i]\n"
   ]
  },
  {
   "cell_type": "code",
   "execution_count": null,
   "metadata": {
    "ExecuteTime": {
     "end_time": "2018-10-10T12:50:33.100714Z",
     "start_time": "2018-10-10T12:50:33.096919Z"
    }
   },
   "outputs": [],
   "source": [
    "print(train_dataset.coco_data[54]['image_id'])"
   ]
  },
  {
   "cell_type": "code",
   "execution_count": null,
   "metadata": {
    "ExecuteTime": {
     "end_time": "2018-10-10T12:50:33.131893Z",
     "start_time": "2018-10-10T12:50:33.104521Z"
    }
   },
   "outputs": [],
   "source": [
    "img, instance_masks, cat_ids = train_dataset.load_data(57)"
   ]
  },
  {
   "cell_type": "code",
   "execution_count": null,
   "metadata": {
    "ExecuteTime": {
     "end_time": "2018-10-10T12:50:33.153131Z",
     "start_time": "2018-10-10T12:50:33.134023Z"
    }
   },
   "outputs": [],
   "source": [
    "from PIL import Image\n",
    "import numpy as np\n",
    "Image.fromarray(img, \"RGB\")\n",
    "print(instance_masks.shape)\n",
    "Image.fromarray((instance_masks[1].astype(np.uint8))*255,\"L\")"
   ]
  },
  {
   "cell_type": "code",
   "execution_count": null,
   "metadata": {
    "ExecuteTime": {
     "start_time": "2018-10-10T12:16:05.504Z"
    }
   },
   "outputs": [],
   "source": [
    "for data in iter(val_loader):\n",
    "    i = data\n",
    "    print(\"hey\")"
   ]
  },
  {
   "cell_type": "code",
   "execution_count": null,
   "metadata": {},
   "outputs": [],
   "source": []
  },
  {
   "cell_type": "code",
   "execution_count": null,
   "metadata": {},
   "outputs": [],
   "source": []
  }
 ],
 "metadata": {
  "kernelspec": {
   "display_name": "Python 3",
   "language": "python",
   "name": "python3"
  },
  "language_info": {
   "codemirror_mode": {
    "name": "ipython",
    "version": 3
   },
   "file_extension": ".py",
   "mimetype": "text/x-python",
   "name": "python",
   "nbconvert_exporter": "python",
   "pygments_lexer": "ipython3",
   "version": "3.6.5"
  }
 },
 "nbformat": 4,
 "nbformat_minor": 2
}

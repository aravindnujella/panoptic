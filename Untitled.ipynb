{
 "cells": [
  {
   "cell_type": "code",
   "execution_count": 1,
   "metadata": {
    "ExecuteTime": {
     "end_time": "2018-11-02T00:53:30.300290Z",
     "start_time": "2018-11-02T00:53:30.012636Z"
    }
   },
   "outputs": [],
   "source": [
    "import torch\n",
    "x = torch.eye(3)"
   ]
  },
  {
   "cell_type": "code",
   "execution_count": 2,
   "metadata": {
    "ExecuteTime": {
     "end_time": "2018-11-02T00:53:30.313595Z",
     "start_time": "2018-11-02T00:53:30.302555Z"
    }
   },
   "outputs": [
    {
     "data": {
      "text/plain": [
       "tensor([[1., 0., 0.],\n",
       "        [0., 1., 0.],\n",
       "        [0., 0., 1.]])"
      ]
     },
     "execution_count": 2,
     "metadata": {},
     "output_type": "execute_result"
    }
   ],
   "source": [
    "x"
   ]
  },
  {
   "cell_type": "code",
   "execution_count": 3,
   "metadata": {
    "ExecuteTime": {
     "end_time": "2018-11-02T00:53:30.318399Z",
     "start_time": "2018-11-02T00:53:30.315764Z"
    }
   },
   "outputs": [],
   "source": [
    "def f(y):\n",
    "    y = y.sigmoid()"
   ]
  },
  {
   "cell_type": "code",
   "execution_count": 4,
   "metadata": {
    "ExecuteTime": {
     "end_time": "2018-11-02T00:53:30.327427Z",
     "start_time": "2018-11-02T00:53:30.320717Z"
    }
   },
   "outputs": [],
   "source": [
    "f(x)"
   ]
  },
  {
   "cell_type": "code",
   "execution_count": 5,
   "metadata": {
    "ExecuteTime": {
     "end_time": "2018-11-02T00:53:30.333368Z",
     "start_time": "2018-11-02T00:53:30.329878Z"
    }
   },
   "outputs": [
    {
     "data": {
      "text/plain": [
       "tensor([[1., 0., 0.],\n",
       "        [0., 1., 0.],\n",
       "        [0., 0., 1.]])"
      ]
     },
     "execution_count": 5,
     "metadata": {},
     "output_type": "execute_result"
    }
   ],
   "source": [
    "x"
   ]
  },
  {
   "cell_type": "code",
   "execution_count": 6,
   "metadata": {
    "ExecuteTime": {
     "end_time": "2018-11-02T00:53:30.340065Z",
     "start_time": "2018-11-02T00:53:30.335472Z"
    }
   },
   "outputs": [
    {
     "data": {
      "text/plain": [
       "tensor([[0.7311, 0.5000, 0.5000],\n",
       "        [0.5000, 0.7311, 0.5000],\n",
       "        [0.5000, 0.5000, 0.7311]])"
      ]
     },
     "execution_count": 6,
     "metadata": {},
     "output_type": "execute_result"
    }
   ],
   "source": [
    "x.sigmoid()"
   ]
  },
  {
   "cell_type": "code",
   "execution_count": 7,
   "metadata": {
    "ExecuteTime": {
     "end_time": "2018-11-02T00:53:30.345729Z",
     "start_time": "2018-11-02T00:53:30.341908Z"
    }
   },
   "outputs": [
    {
     "data": {
      "text/plain": [
       "tensor([[0.7311, 0.5000, 0.5000],\n",
       "        [0.5000, 0.7311, 0.5000],\n",
       "        [0.5000, 0.5000, 0.7311]])"
      ]
     },
     "execution_count": 7,
     "metadata": {},
     "output_type": "execute_result"
    }
   ],
   "source": [
    "x.sigmoid_()"
   ]
  },
  {
   "cell_type": "code",
   "execution_count": 8,
   "metadata": {
    "ExecuteTime": {
     "end_time": "2018-11-02T00:53:30.351340Z",
     "start_time": "2018-11-02T00:53:30.347715Z"
    }
   },
   "outputs": [
    {
     "data": {
      "text/plain": [
       "tensor([[0.7311, 0.5000, 0.5000],\n",
       "        [0.5000, 0.7311, 0.5000],\n",
       "        [0.5000, 0.5000, 0.7311]])"
      ]
     },
     "execution_count": 8,
     "metadata": {},
     "output_type": "execute_result"
    }
   ],
   "source": [
    "x"
   ]
  },
  {
   "cell_type": "code",
   "execution_count": 9,
   "metadata": {
    "ExecuteTime": {
     "end_time": "2018-11-02T00:53:30.356439Z",
     "start_time": "2018-11-02T00:53:30.353245Z"
    }
   },
   "outputs": [
    {
     "data": {
      "text/plain": [
       "torch.Tensor"
      ]
     },
     "execution_count": 9,
     "metadata": {},
     "output_type": "execute_result"
    }
   ],
   "source": [
    "type(x)"
   ]
  },
  {
   "cell_type": "code",
   "execution_count": 10,
   "metadata": {
    "ExecuteTime": {
     "end_time": "2018-11-02T00:53:30.361530Z",
     "start_time": "2018-11-02T00:53:30.358369Z"
    }
   },
   "outputs": [
    {
     "data": {
      "text/plain": [
       "<function Tensor.type>"
      ]
     },
     "execution_count": 10,
     "metadata": {},
     "output_type": "execute_result"
    }
   ],
   "source": [
    "x.type"
   ]
  },
  {
   "cell_type": "code",
   "execution_count": 11,
   "metadata": {
    "ExecuteTime": {
     "end_time": "2018-11-02T00:53:30.366783Z",
     "start_time": "2018-11-02T00:53:30.363628Z"
    }
   },
   "outputs": [
    {
     "data": {
      "text/plain": [
       "'torch.FloatTensor'"
      ]
     },
     "execution_count": 11,
     "metadata": {},
     "output_type": "execute_result"
    }
   ],
   "source": [
    "x.type()"
   ]
  },
  {
   "cell_type": "code",
   "execution_count": 12,
   "metadata": {
    "ExecuteTime": {
     "end_time": "2018-11-02T00:53:30.372309Z",
     "start_time": "2018-11-02T00:53:30.368850Z"
    }
   },
   "outputs": [
    {
     "data": {
      "text/plain": [
       "torch.Size([10])"
      ]
     },
     "execution_count": 12,
     "metadata": {},
     "output_type": "execute_result"
    }
   ],
   "source": [
    "x = torch.arange(10)\n",
    "x.shape"
   ]
  },
  {
   "cell_type": "code",
   "execution_count": 13,
   "metadata": {
    "ExecuteTime": {
     "end_time": "2018-11-02T00:53:30.378625Z",
     "start_time": "2018-11-02T00:53:30.374076Z"
    }
   },
   "outputs": [
    {
     "name": "stdout",
     "output_type": "stream",
     "text": [
      "tensor([10.])\n"
     ]
    },
    {
     "data": {
      "text/plain": [
       "torch.Size([1])"
      ]
     },
     "execution_count": 13,
     "metadata": {},
     "output_type": "execute_result"
    }
   ],
   "source": [
    "y = torch.ones(1)*10\n",
    "print(y)\n",
    "y.shape\n",
    "# y.item()\n",
    "# y.data"
   ]
  },
  {
   "cell_type": "code",
   "execution_count": 14,
   "metadata": {
    "ExecuteTime": {
     "end_time": "2018-11-02T00:53:30.384195Z",
     "start_time": "2018-11-02T00:53:30.380969Z"
    }
   },
   "outputs": [
    {
     "data": {
      "text/plain": [
       "'torch.FloatTensor'"
      ]
     },
     "execution_count": 14,
     "metadata": {},
     "output_type": "execute_result"
    }
   ],
   "source": [
    "y.type()"
   ]
  },
  {
   "cell_type": "code",
   "execution_count": 15,
   "metadata": {
    "ExecuteTime": {
     "end_time": "2018-11-02T00:53:30.475997Z",
     "start_time": "2018-11-02T00:53:30.386246Z"
    }
   },
   "outputs": [
    {
     "ename": "RuntimeError",
     "evalue": "invalid argument 0: Sizes of tensors must match except in dimension 0. Got 10 and 1 in dimension 1 at /opt/conda/conda-bld/pytorch_1535491974311/work/aten/src/TH/generic/THTensorMath.cpp:3616",
     "output_type": "error",
     "traceback": [
      "\u001b[0;31m---------------------------------------------------------------------------\u001b[0m",
      "\u001b[0;31mRuntimeError\u001b[0m                              Traceback (most recent call last)",
      "\u001b[0;32m<ipython-input-15-51ccfd2166cb>\u001b[0m in \u001b[0;36m<module>\u001b[0;34m()\u001b[0m\n\u001b[0;32m----> 1\u001b[0;31m \u001b[0mtorch\u001b[0m\u001b[0;34m.\u001b[0m\u001b[0mstack\u001b[0m\u001b[0;34m(\u001b[0m\u001b[0;34m[\u001b[0m\u001b[0mx\u001b[0m\u001b[0;34m.\u001b[0m\u001b[0mfloat\u001b[0m\u001b[0;34m(\u001b[0m\u001b[0;34m)\u001b[0m\u001b[0;34m,\u001b[0m\u001b[0my\u001b[0m\u001b[0;34m]\u001b[0m\u001b[0;34m)\u001b[0m\u001b[0;34m\u001b[0m\u001b[0m\n\u001b[0m",
      "\u001b[0;31mRuntimeError\u001b[0m: invalid argument 0: Sizes of tensors must match except in dimension 0. Got 10 and 1 in dimension 1 at /opt/conda/conda-bld/pytorch_1535491974311/work/aten/src/TH/generic/THTensorMath.cpp:3616"
     ]
    }
   ],
   "source": [
    "torch.stack([x.float(),y])"
   ]
  },
  {
   "cell_type": "code",
   "execution_count": null,
   "metadata": {
    "ExecuteTime": {
     "end_time": "2018-11-02T00:53:30.476657Z",
     "start_time": "2018-11-02T00:18:22.768Z"
    }
   },
   "outputs": [],
   "source": [
    "x.shape, y.shape"
   ]
  },
  {
   "cell_type": "code",
   "execution_count": null,
   "metadata": {
    "ExecuteTime": {
     "end_time": "2018-11-02T00:53:30.477720Z",
     "start_time": "2018-11-02T00:18:22.772Z"
    }
   },
   "outputs": [],
   "source": [
    "y"
   ]
  },
  {
   "cell_type": "code",
   "execution_count": null,
   "metadata": {
    "ExecuteTime": {
     "end_time": "2018-11-02T00:53:30.478678Z",
     "start_time": "2018-11-02T00:18:22.774Z"
    }
   },
   "outputs": [],
   "source": [
    "print(\"%0.2f\"%y)"
   ]
  },
  {
   "cell_type": "code",
   "execution_count": null,
   "metadata": {
    "ExecuteTime": {
     "end_time": "2018-11-02T00:53:30.479608Z",
     "start_time": "2018-11-02T00:18:22.778Z"
    }
   },
   "outputs": [],
   "source": [
    "x = {}\n",
    "if x is {}:\n",
    "    print(\"hahah\")"
   ]
  },
  {
   "cell_type": "code",
   "execution_count": null,
   "metadata": {
    "ExecuteTime": {
     "end_time": "2018-11-02T00:53:30.480578Z",
     "start_time": "2018-11-02T00:18:22.781Z"
    }
   },
   "outputs": [],
   "source": [
    "print(len(x))"
   ]
  },
  {
   "cell_type": "code",
   "execution_count": null,
   "metadata": {
    "ExecuteTime": {
     "end_time": "2018-11-02T00:53:30.481463Z",
     "start_time": "2018-11-02T00:18:22.785Z"
    }
   },
   "outputs": [],
   "source": [
    "print(any(x))"
   ]
  },
  {
   "cell_type": "code",
   "execution_count": null,
   "metadata": {
    "ExecuteTime": {
     "end_time": "2018-11-02T00:53:30.482420Z",
     "start_time": "2018-11-02T00:18:22.790Z"
    }
   },
   "outputs": [],
   "source": [
    "torch.cat([torch.arange(10), torch.arange(10)])"
   ]
  },
  {
   "cell_type": "code",
   "execution_count": null,
   "metadata": {
    "ExecuteTime": {
     "end_time": "2018-11-02T00:53:30.483450Z",
     "start_time": "2018-11-02T00:18:22.793Z"
    }
   },
   "outputs": [],
   "source": [
    "y = torch.stack([torch.arange(4), torch.arange(4)])\n",
    "# print(\"%0.5f\"%y)\n",
    "print(y.data)"
   ]
  },
  {
   "cell_type": "code",
   "execution_count": null,
   "metadata": {
    "ExecuteTime": {
     "end_time": "2018-11-02T00:53:30.484350Z",
     "start_time": "2018-11-02T00:18:22.797Z"
    }
   },
   "outputs": [],
   "source": [
    "import numpy as np\n",
    "np.array([np.arange(5), np.arange(5)])"
   ]
  },
  {
   "cell_type": "code",
   "execution_count": null,
   "metadata": {
    "ExecuteTime": {
     "end_time": "2018-11-02T00:53:30.485221Z",
     "start_time": "2018-11-02T00:18:22.800Z"
    }
   },
   "outputs": [],
   "source": [
    "y"
   ]
  },
  {
   "cell_type": "code",
   "execution_count": null,
   "metadata": {
    "ExecuteTime": {
     "end_time": "2018-11-02T00:53:30.486190Z",
     "start_time": "2018-11-02T00:18:22.801Z"
    }
   },
   "outputs": [],
   "source": [
    "z = y.cuda()"
   ]
  },
  {
   "cell_type": "code",
   "execution_count": null,
   "metadata": {
    "ExecuteTime": {
     "end_time": "2018-11-02T00:53:30.487085Z",
     "start_time": "2018-11-02T00:18:22.804Z"
    }
   },
   "outputs": [],
   "source": [
    "z"
   ]
  },
  {
   "cell_type": "code",
   "execution_count": null,
   "metadata": {
    "ExecuteTime": {
     "end_time": "2018-11-02T00:53:30.488072Z",
     "start_time": "2018-11-02T00:18:22.806Z"
    }
   },
   "outputs": [],
   "source": [
    "z.cpu()"
   ]
  },
  {
   "cell_type": "code",
   "execution_count": null,
   "metadata": {
    "ExecuteTime": {
     "end_time": "2018-11-02T00:53:30.489041Z",
     "start_time": "2018-11-02T00:18:22.808Z"
    }
   },
   "outputs": [],
   "source": [
    "z.data"
   ]
  },
  {
   "cell_type": "code",
   "execution_count": null,
   "metadata": {
    "ExecuteTime": {
     "end_time": "2018-11-02T00:53:30.489989Z",
     "start_time": "2018-11-02T00:18:22.810Z"
    }
   },
   "outputs": [],
   "source": [
    "torch.set_printoptions(precision=1)"
   ]
  },
  {
   "cell_type": "code",
   "execution_count": null,
   "metadata": {
    "ExecuteTime": {
     "end_time": "2018-11-02T00:23:40.294619Z",
     "start_time": "2018-11-02T00:23:40.291304Z"
    }
   },
   "outputs": [],
   "source": []
  },
  {
   "cell_type": "code",
   "execution_count": null,
   "metadata": {
    "ExecuteTime": {
     "end_time": "2018-11-02T00:53:30.490865Z",
     "start_time": "2018-11-02T00:18:22.815Z"
    }
   },
   "outputs": [],
   "source": [
    "import loss_functions as L\n",
    "import torch\n",
    "x = torch.eye(3)\n",
    "y = torch.zeros((3,3))\n",
    "y[1][1]= 1\n",
    "print(x.shape, y.shape)\n",
    "x = x.unsqueeze(0).unsqueeze(0)\n",
    "y = y.unsqueeze(0).unsqueeze(0)\n",
    "print(x, y)\n",
    "u = (x+y-x*y).sum(-1).sum(-1)\n",
    "i = (x*y).sum(-1).sum(-1)\n",
    "print(u, i)\n",
    "# print(x.shape, y.shape)\n",
    "# print(L.mean_iou(x,y))"
   ]
  },
  {
   "cell_type": "code",
   "execution_count": null,
   "metadata": {
    "ExecuteTime": {
     "end_time": "2018-11-02T00:53:30.491956Z",
     "start_time": "2018-11-02T00:18:22.818Z"
    }
   },
   "outputs": [],
   "source": [
    "x"
   ]
  },
  {
   "cell_type": "code",
   "execution_count": null,
   "metadata": {
    "ExecuteTime": {
     "end_time": "2018-11-02T00:53:30.492930Z",
     "start_time": "2018-11-02T00:18:22.821Z"
    }
   },
   "outputs": [],
   "source": [
    "(x > 2).float()"
   ]
  },
  {
   "cell_type": "code",
   "execution_count": null,
   "metadata": {
    "ExecuteTime": {
     "end_time": "2018-11-02T00:53:30.493897Z",
     "start_time": "2018-11-02T00:18:22.823Z"
    }
   },
   "outputs": [],
   "source": [
    "x"
   ]
  },
  {
   "cell_type": "code",
   "execution_count": null,
   "metadata": {
    "ExecuteTime": {
     "end_time": "2018-11-02T00:53:30.494823Z",
     "start_time": "2018-11-02T00:18:22.825Z"
    }
   },
   "outputs": [],
   "source": [
    "x.sigmoid()\n"
   ]
  },
  {
   "cell_type": "code",
   "execution_count": null,
   "metadata": {
    "ExecuteTime": {
     "end_time": "2018-11-02T00:53:30.495809Z",
     "start_time": "2018-11-02T00:18:22.828Z"
    }
   },
   "outputs": [],
   "source": [
    "x"
   ]
  },
  {
   "cell_type": "code",
   "execution_count": null,
   "metadata": {
    "ExecuteTime": {
     "end_time": "2018-11-02T00:53:30.496756Z",
     "start_time": "2018-11-02T00:18:22.830Z"
    }
   },
   "outputs": [],
   "source": [
    "y"
   ]
  },
  {
   "cell_type": "code",
   "execution_count": null,
   "metadata": {
    "ExecuteTime": {
     "end_time": "2018-11-02T00:53:30.497792Z",
     "start_time": "2018-11-02T00:18:22.832Z"
    }
   },
   "outputs": [],
   "source": [
    "x = x.unsqueeze(0).unsqueeze(0)"
   ]
  },
  {
   "cell_type": "code",
   "execution_count": null,
   "metadata": {
    "ExecuteTime": {
     "end_time": "2018-11-02T00:53:30.498779Z",
     "start_time": "2018-11-02T00:18:22.835Z"
    }
   },
   "outputs": [],
   "source": [
    "x.shape"
   ]
  },
  {
   "cell_type": "code",
   "execution_count": null,
   "metadata": {
    "ExecuteTime": {
     "end_time": "2018-11-02T00:53:30.499805Z",
     "start_time": "2018-11-02T00:18:22.837Z"
    }
   },
   "outputs": [],
   "source": [
    "x = torch.eye(3).unsqueeze(0).unsqueeze(0)\n",
    "x = x.repeat(2,1,1,1)\n",
    "y = torch.zeros((3,3))\n",
    "y[0][0] = 1\n",
    "y[1][0] = 1\n",
    "y = y.unsqueeze(0)\n",
    "y = y.repeat(2,1,1)\n",
    "print(x.shape, y.shape)\n",
    "z = x*y\n",
    "print(z.shape)"
   ]
  },
  {
   "cell_type": "code",
   "execution_count": null,
   "metadata": {},
   "outputs": [],
   "source": []
  }
 ],
 "metadata": {
  "kernelspec": {
   "display_name": "Python 3",
   "language": "python",
   "name": "python3"
  },
  "language_info": {
   "codemirror_mode": {
    "name": "ipython",
    "version": 3
   },
   "file_extension": ".py",
   "mimetype": "text/x-python",
   "name": "python",
   "nbconvert_exporter": "python",
   "pygments_lexer": "ipython3",
   "version": "3.6.5"
  }
 },
 "nbformat": 4,
 "nbformat_minor": 2
}

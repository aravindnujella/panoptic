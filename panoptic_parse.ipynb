{
 "cells": [
  {
   "cell_type": "code",
   "execution_count": null,
   "metadata": {},
   "outputs": [],
   "source": [
    "# Aim of this file is to index \n",
    "# panoptic annotations based on coco id"
   ]
  },
  {
   "cell_type": "code",
   "execution_count": 1,
   "metadata": {
    "ExecuteTime": {
     "end_time": "2018-08-18T07:26:40.755893Z",
     "start_time": "2018-08-18T07:26:40.473076Z"
    }
   },
   "outputs": [],
   "source": [
    "import numpy as np\n",
    "import random\n",
    "import torch\n",
    "import torch.utils.data as data\n",
    "from PIL import Image\n",
    "from PIL import Image, ImageFont, ImageDraw, ImageEnhance\n",
    "\n",
    "import os\n",
    "import json\n",
    "import os.path\n",
    "import colorsys\n",
    "\n",
    "\n",
    "inf = float('inf')\n",
    "nan = float('nan')"
   ]
  },
  {
   "cell_type": "code",
   "execution_count": 2,
   "metadata": {
    "ExecuteTime": {
     "end_time": "2018-08-18T07:26:41.406342Z",
     "start_time": "2018-08-18T07:26:41.401212Z"
    }
   },
   "outputs": [],
   "source": [
    "data_dir = \"/home/aravind/dataset/\"\n",
    "ann_dir = data_dir + \"annotations/panoptic/\"\n",
    "cat_file = ann_dir + \"panoptic_coco_categories.json\"\n",
    "\n",
    "train_img_dir = data_dir + \"train2017/\"\n",
    "train_seg_dir = ann_dir + \"panoptic_train2017/\"\n",
    "train_ann_json = ann_dir + \"panoptic_train2017.json\"\n",
    "\n",
    "val_img_dir = data_dir + \"val2017/\"\n",
    "val_seg_dir = ann_dir + \"panoptic_val2017/\"\n",
    "val_ann_json = ann_dir + \"panoptic_val2017.json\""
   ]
  },
  {
   "cell_type": "code",
   "execution_count": 4,
   "metadata": {
    "ExecuteTime": {
     "end_time": "2018-08-18T07:26:49.668610Z",
     "start_time": "2018-08-18T07:26:49.507572Z"
    }
   },
   "outputs": [],
   "source": [
    "with open(val_ann_json,\"r\") as f:\n",
    "    val_ann = json.load(f)\n",
    "# with open(train_ann_json,\"r\") as f:\n",
    "#     train_ann = json.load(f)\n",
    "with open(cat_file,\"r\") as f:\n",
    "    cat_list = json.load(f)\n",
    "\n",
    "coco_cats = {c['id']: c for c in cat_list}"
   ]
  },
  {
   "cell_type": "code",
   "execution_count": 22,
   "metadata": {
    "ExecuteTime": {
     "end_time": "2018-08-18T08:22:20.259990Z",
     "start_time": "2018-08-18T08:22:20.255053Z"
    }
   },
   "outputs": [
    {
     "name": "stdout",
     "output_type": "stream",
     "text": [
      "[1, 2, 3, 4, 5, 6, 7, 8, 9, 10, 11, 13, 14, 15, 16, 17, 18, 19, 20, 21, 22, 23, 24, 25, 27, 28, 31, 32, 33, 34, 35, 36, 37, 38, 39, 40, 41, 42, 43, 44, 46, 47, 48, 49, 50, 51, 52, 53, 54, 55, 56, 57, 58, 59, 60, 61, 62, 63, 64, 65, 67, 70, 72, 73, 74, 75, 76, 77, 78, 79, 80, 81, 82, 84, 85, 86, 87, 88, 89, 90, 92, 93, 95, 100, 107, 109, 112, 118, 119, 122, 125, 128, 130, 133, 138, 141, 144, 145, 147, 148, 149, 151, 154, 155, 156, 159, 161, 166, 168, 171, 175, 176, 177, 178, 180, 181, 184, 185, 186, 187, 188, 189, 190, 191, 192, 193, 194, 195, 196, 197, 198, 199, 200]\n"
     ]
    }
   ],
   "source": [
    "# print(coco_cats)\n",
    "# print(cat_list)\n",
    "print([c['id'] for c in cat_list])"
   ]
  },
  {
   "cell_type": "code",
   "execution_count": 21,
   "metadata": {
    "ExecuteTime": {
     "end_time": "2018-08-18T07:54:58.875312Z",
     "start_time": "2018-08-18T07:54:58.870757Z"
    }
   },
   "outputs": [
    {
     "name": "stdout",
     "output_type": "stream",
     "text": [
      "{'license': 4, 'file_name': '000000397133.jpg', 'coco_url': 'http://images.cocodataset.org/val2017/000000397133.jpg', 'height': 427, 'width': 640, 'date_captured': '2013-11-14 17:02:52', 'flickr_url': 'http://farm7.staticflickr.com/6116/6255196340_da26cf2c9e_z.jpg', 'id': 397133}\n"
     ]
    }
   ],
   "source": [
    "print(val_ann['images'][0])"
   ]
  },
  {
   "cell_type": "code",
   "execution_count": 4,
   "metadata": {
    "ExecuteTime": {
     "end_time": "2018-08-18T00:55:15.210356Z",
     "start_time": "2018-08-18T00:55:15.205356Z"
    }
   },
   "outputs": [],
   "source": [
    "def rgb2id(color):\n",
    "    return color[:, :, 0] + 256 * color[:, :, 1] + 256 * 256 * color[:, :, 2]"
   ]
  },
  {
   "cell_type": "code",
   "execution_count": 13,
   "metadata": {},
   "outputs": [
    {
     "name": "stdout",
     "output_type": "stream",
     "text": [
      "{'segments_info': [{'id': 3226956, 'category_id': 1, 'iscrowd': 0, 'bbox': [413, 158, 53, 138], 'area': 2840}, {'id': 6979964, 'category_id': 1, 'iscrowd': 0, 'bbox': [384, 172, 16, 36], 'area': 439}, {'id': 3103374, 'category_id': 62, 'iscrowd': 0, 'bbox': [413, 223, 30, 81], 'area': 1250}, {'id': 2831194, 'category_id': 62, 'iscrowd': 0, 'bbox': [291, 218, 62, 98], 'area': 1848}, {'id': 3496593, 'category_id': 62, 'iscrowd': 0, 'bbox': [412, 219, 10, 13], 'area': 90}, {'id': 2633066, 'category_id': 62, 'iscrowd': 0, 'bbox': [317, 219, 22, 12], 'area': 212}, {'id': 3165572, 'category_id': 62, 'iscrowd': 0, 'bbox': [359, 218, 56, 103], 'area': 2251}, {'id': 8824489, 'category_id': 64, 'iscrowd': 0, 'bbox': [237, 149, 24, 62], 'area': 369}, {'id': 3032951, 'category_id': 67, 'iscrowd': 0, 'bbox': [321, 231, 126, 89], 'area': 2134}, {'id': 2038814, 'category_id': 72, 'iscrowd': 0, 'bbox': [7, 168, 149, 95], 'area': 13247}, {'id': 3289671, 'category_id': 72, 'iscrowd': 0, 'bbox': [557, 209, 82, 79], 'area': 5846}, {'id': 2437710, 'category_id': 78, 'iscrowd': 0, 'bbox': [512, 206, 15, 16], 'area': 224}, {'id': 4159376, 'category_id': 82, 'iscrowd': 0, 'bbox': [493, 174, 20, 108], 'area': 2056}, {'id': 3423599, 'category_id': 84, 'iscrowd': 0, 'bbox': [613, 308, 13, 46], 'area': 324}, {'id': 3094634, 'category_id': 84, 'iscrowd': 0, 'bbox': [605, 306, 14, 45], 'area': 331}, {'id': 3296100, 'category_id': 85, 'iscrowd': 0, 'bbox': [448, 121, 14, 22], 'area': 227}, {'id': 6054280, 'category_id': 86, 'iscrowd': 0, 'bbox': [241, 195, 14, 18], 'area': 187}, {'id': 5942189, 'category_id': 86, 'iscrowd': 0, 'bbox': [549, 309, 36, 90], 'area': 2171}, {'id': 4086154, 'category_id': 86, 'iscrowd': 0, 'bbox': [351, 209, 11, 22], 'area': 178}, {'id': 7438777, 'category_id': 86, 'iscrowd': 0, 'bbox': [337, 200, 10, 16], 'area': 120}, {'id': 3031159, 'category_id': 118, 'iscrowd': 0, 'bbox': [0, 269, 564, 157], 'area': 49754}, {'id': 9284267, 'category_id': 119, 'iscrowd': 0, 'bbox': [338, 166, 29, 50], 'area': 842}, {'id': 6068135, 'category_id': 130, 'iscrowd': 0, 'bbox': [212, 11, 321, 127], 'area': 3391}, {'id': 2567230, 'category_id': 156, 'iscrowd': 0, 'bbox': [129, 168, 351, 162], 'area': 5699}, {'id': 10334639, 'category_id': 181, 'iscrowd': 0, 'bbox': [204, 63, 234, 174], 'area': 15587}, {'id': 6266027, 'category_id': 186, 'iscrowd': 0, 'bbox': [136, 0, 473, 116], 'area': 20106}, {'id': 5274512, 'category_id': 188, 'iscrowd': 0, 'bbox': [0, 38, 549, 297], 'area': 25483}, {'id': 7238567, 'category_id': 189, 'iscrowd': 0, 'bbox': [457, 350, 183, 76], 'area': 9421}, {'id': 4224910, 'category_id': 199, 'iscrowd': 0, 'bbox': [0, 0, 640, 358], 'area': 83201}, {'id': 6391959, 'category_id': 200, 'iscrowd': 0, 'bbox': [135, 359, 336, 67], 'area': 12618}], 'file_name': '000000000139.png', 'image_id': 139}\n",
      "{'license': 4, 'file_name': '000000397133.jpg', 'coco_url': 'http://images.cocodataset.org/val2017/000000397133.jpg', 'height': 427, 'width': 640, 'date_captured': '2013-11-14 17:02:52', 'flickr_url': 'http://farm7.staticflickr.com/6116/6255196340_da26cf2c9e_z.jpg', 'id': 397133}\n"
     ]
    }
   ],
   "source": [
    "print(val_ann['annotations'][0])\n",
    "print(val_ann['images'][0])"
   ]
  },
  {
   "cell_type": "code",
   "execution_count": 5,
   "metadata": {
    "ExecuteTime": {
     "end_time": "2018-08-18T00:55:19.749357Z",
     "start_time": "2018-08-18T00:55:19.743054Z"
    }
   },
   "outputs": [],
   "source": [
    "# takes annotations and\n",
    "# returns a dict indexed on coco index\n",
    "# dict {image_id : segment_info, segment_file, image_file}\n",
    "\n",
    "\n",
    "def index_panoptic(ann):\n",
    "    d = {}\n",
    "    for i in ann['annotations']:\n",
    "        coco_index = i['image_id']\n",
    "        d[coco_index] = {'segments_info': i['segments_info'],\n",
    "                         'segments_file': i['file_name']}\n",
    "    for i in ann['images']:\n",
    "        coco_index = i['id']\n",
    "        image_file = i['file_name']\n",
    "        d[coco_index]['image_file'] = image_file\n",
    "    return d"
   ]
  },
  {
   "cell_type": "code",
   "execution_count": 7,
   "metadata": {
    "ExecuteTime": {
     "end_time": "2018-08-18T00:56:05.308522Z",
     "start_time": "2018-08-18T00:56:04.192391Z"
    }
   },
   "outputs": [],
   "source": [
    "d = index_panoptic(train_ann)\n",
    "# with open('some.json',\"w\") as f:\n",
    "#     json.dump(d,f)"
   ]
  },
  {
   "cell_type": "code",
   "execution_count": 8,
   "metadata": {
    "ExecuteTime": {
     "end_time": "2018-08-18T00:56:16.350637Z",
     "start_time": "2018-08-18T00:56:11.068982Z"
    }
   },
   "outputs": [],
   "source": [
    "with open('some.json',\"r\") as f:\n",
    "    k = json.load(f)"
   ]
  },
  {
   "cell_type": "code",
   "execution_count": 21,
   "metadata": {},
   "outputs": [
    {
     "name": "stdout",
     "output_type": "stream",
     "text": [
      "\n",
      "\n"
     ]
    },
    {
     "ename": "KeyboardInterrupt",
     "evalue": "",
     "output_type": "error",
     "traceback": [
      "\u001b[0;31m---------------------------------------------------------------------------\u001b[0m",
      "\u001b[0;31mKeyboardInterrupt\u001b[0m                         Traceback (most recent call last)",
      "\u001b[0;32m~/anaconda3/lib/python3.6/site-packages/ipykernel/kernelbase.py\u001b[0m in \u001b[0;36m_input_request\u001b[0;34m(self, prompt, ident, parent, password)\u001b[0m\n\u001b[1;32m    728\u001b[0m             \u001b[0;32mtry\u001b[0m\u001b[0;34m:\u001b[0m\u001b[0;34m\u001b[0m\u001b[0m\n\u001b[0;32m--> 729\u001b[0;31m                 \u001b[0mident\u001b[0m\u001b[0;34m,\u001b[0m \u001b[0mreply\u001b[0m \u001b[0;34m=\u001b[0m \u001b[0mself\u001b[0m\u001b[0;34m.\u001b[0m\u001b[0msession\u001b[0m\u001b[0;34m.\u001b[0m\u001b[0mrecv\u001b[0m\u001b[0;34m(\u001b[0m\u001b[0mself\u001b[0m\u001b[0;34m.\u001b[0m\u001b[0mstdin_socket\u001b[0m\u001b[0;34m,\u001b[0m \u001b[0;36m0\u001b[0m\u001b[0;34m)\u001b[0m\u001b[0;34m\u001b[0m\u001b[0m\n\u001b[0m\u001b[1;32m    730\u001b[0m             \u001b[0;32mexcept\u001b[0m \u001b[0mException\u001b[0m\u001b[0;34m:\u001b[0m\u001b[0;34m\u001b[0m\u001b[0m\n",
      "\u001b[0;32m~/anaconda3/lib/python3.6/site-packages/jupyter_client/session.py\u001b[0m in \u001b[0;36mrecv\u001b[0;34m(self, socket, mode, content, copy)\u001b[0m\n\u001b[1;32m    802\u001b[0m         \u001b[0;32mtry\u001b[0m\u001b[0;34m:\u001b[0m\u001b[0;34m\u001b[0m\u001b[0m\n\u001b[0;32m--> 803\u001b[0;31m             \u001b[0mmsg_list\u001b[0m \u001b[0;34m=\u001b[0m \u001b[0msocket\u001b[0m\u001b[0;34m.\u001b[0m\u001b[0mrecv_multipart\u001b[0m\u001b[0;34m(\u001b[0m\u001b[0mmode\u001b[0m\u001b[0;34m,\u001b[0m \u001b[0mcopy\u001b[0m\u001b[0;34m=\u001b[0m\u001b[0mcopy\u001b[0m\u001b[0;34m)\u001b[0m\u001b[0;34m\u001b[0m\u001b[0m\n\u001b[0m\u001b[1;32m    804\u001b[0m         \u001b[0;32mexcept\u001b[0m \u001b[0mzmq\u001b[0m\u001b[0;34m.\u001b[0m\u001b[0mZMQError\u001b[0m \u001b[0;32mas\u001b[0m \u001b[0me\u001b[0m\u001b[0;34m:\u001b[0m\u001b[0;34m\u001b[0m\u001b[0m\n",
      "\u001b[0;32m~/anaconda3/lib/python3.6/site-packages/zmq/sugar/socket.py\u001b[0m in \u001b[0;36mrecv_multipart\u001b[0;34m(self, flags, copy, track)\u001b[0m\n\u001b[1;32m    465\u001b[0m         \"\"\"\n\u001b[0;32m--> 466\u001b[0;31m         \u001b[0mparts\u001b[0m \u001b[0;34m=\u001b[0m \u001b[0;34m[\u001b[0m\u001b[0mself\u001b[0m\u001b[0;34m.\u001b[0m\u001b[0mrecv\u001b[0m\u001b[0;34m(\u001b[0m\u001b[0mflags\u001b[0m\u001b[0;34m,\u001b[0m \u001b[0mcopy\u001b[0m\u001b[0;34m=\u001b[0m\u001b[0mcopy\u001b[0m\u001b[0;34m,\u001b[0m \u001b[0mtrack\u001b[0m\u001b[0;34m=\u001b[0m\u001b[0mtrack\u001b[0m\u001b[0;34m)\u001b[0m\u001b[0;34m]\u001b[0m\u001b[0;34m\u001b[0m\u001b[0m\n\u001b[0m\u001b[1;32m    467\u001b[0m         \u001b[0;31m# have first part already, only loop while more to receive\u001b[0m\u001b[0;34m\u001b[0m\u001b[0;34m\u001b[0m\u001b[0m\n",
      "\u001b[0;32mzmq/backend/cython/socket.pyx\u001b[0m in \u001b[0;36mzmq.backend.cython.socket.Socket.recv\u001b[0;34m()\u001b[0m\n",
      "\u001b[0;32mzmq/backend/cython/socket.pyx\u001b[0m in \u001b[0;36mzmq.backend.cython.socket.Socket.recv\u001b[0;34m()\u001b[0m\n",
      "\u001b[0;32mzmq/backend/cython/socket.pyx\u001b[0m in \u001b[0;36mzmq.backend.cython.socket._recv_copy\u001b[0;34m()\u001b[0m\n",
      "\u001b[0;32m~/anaconda3/lib/python3.6/site-packages/zmq/backend/cython/checkrc.pxd\u001b[0m in \u001b[0;36mzmq.backend.cython.checkrc._check_rc\u001b[0;34m()\u001b[0m\n",
      "\u001b[0;31mKeyboardInterrupt\u001b[0m: ",
      "\nDuring handling of the above exception, another exception occurred:\n",
      "\u001b[0;31mKeyboardInterrupt\u001b[0m                         Traceback (most recent call last)",
      "\u001b[0;32m<ipython-input-21-06a61e8237a7>\u001b[0m in \u001b[0;36m<module>\u001b[0;34m()\u001b[0m\n\u001b[1;32m      6\u001b[0m     \u001b[0mImage\u001b[0m\u001b[0;34m.\u001b[0m\u001b[0mopen\u001b[0m\u001b[0;34m(\u001b[0m\u001b[0msegments_file\u001b[0m\u001b[0;34m)\u001b[0m\u001b[0;34m.\u001b[0m\u001b[0mshow\u001b[0m\u001b[0;34m(\u001b[0m\u001b[0;34m)\u001b[0m\u001b[0;34m\u001b[0m\u001b[0m\n\u001b[1;32m      7\u001b[0m     \u001b[0mImage\u001b[0m\u001b[0;34m.\u001b[0m\u001b[0mopen\u001b[0m\u001b[0;34m(\u001b[0m\u001b[0mimage_file\u001b[0m\u001b[0;34m)\u001b[0m\u001b[0;34m.\u001b[0m\u001b[0mshow\u001b[0m\u001b[0;34m(\u001b[0m\u001b[0;34m)\u001b[0m\u001b[0;34m\u001b[0m\u001b[0m\n\u001b[0;32m----> 8\u001b[0;31m     \u001b[0minput\u001b[0m\u001b[0;34m(\u001b[0m\u001b[0;34m)\u001b[0m\u001b[0;34m\u001b[0m\u001b[0m\n\u001b[0m",
      "\u001b[0;32m~/anaconda3/lib/python3.6/site-packages/ipykernel/kernelbase.py\u001b[0m in \u001b[0;36mraw_input\u001b[0;34m(self, prompt)\u001b[0m\n\u001b[1;32m    702\u001b[0m             \u001b[0mself\u001b[0m\u001b[0;34m.\u001b[0m\u001b[0m_parent_ident\u001b[0m\u001b[0;34m,\u001b[0m\u001b[0;34m\u001b[0m\u001b[0m\n\u001b[1;32m    703\u001b[0m             \u001b[0mself\u001b[0m\u001b[0;34m.\u001b[0m\u001b[0m_parent_header\u001b[0m\u001b[0;34m,\u001b[0m\u001b[0;34m\u001b[0m\u001b[0m\n\u001b[0;32m--> 704\u001b[0;31m             \u001b[0mpassword\u001b[0m\u001b[0;34m=\u001b[0m\u001b[0;32mFalse\u001b[0m\u001b[0;34m,\u001b[0m\u001b[0;34m\u001b[0m\u001b[0m\n\u001b[0m\u001b[1;32m    705\u001b[0m         )\n\u001b[1;32m    706\u001b[0m \u001b[0;34m\u001b[0m\u001b[0m\n",
      "\u001b[0;32m~/anaconda3/lib/python3.6/site-packages/ipykernel/kernelbase.py\u001b[0m in \u001b[0;36m_input_request\u001b[0;34m(self, prompt, ident, parent, password)\u001b[0m\n\u001b[1;32m    732\u001b[0m             \u001b[0;32mexcept\u001b[0m \u001b[0mKeyboardInterrupt\u001b[0m\u001b[0;34m:\u001b[0m\u001b[0;34m\u001b[0m\u001b[0m\n\u001b[1;32m    733\u001b[0m                 \u001b[0;31m# re-raise KeyboardInterrupt, to truncate traceback\u001b[0m\u001b[0;34m\u001b[0m\u001b[0;34m\u001b[0m\u001b[0m\n\u001b[0;32m--> 734\u001b[0;31m                 \u001b[0;32mraise\u001b[0m \u001b[0mKeyboardInterrupt\u001b[0m\u001b[0;34m\u001b[0m\u001b[0m\n\u001b[0m\u001b[1;32m    735\u001b[0m             \u001b[0;32melse\u001b[0m\u001b[0;34m:\u001b[0m\u001b[0;34m\u001b[0m\u001b[0m\n\u001b[1;32m    736\u001b[0m                 \u001b[0;32mbreak\u001b[0m\u001b[0;34m\u001b[0m\u001b[0m\n",
      "\u001b[0;31mKeyboardInterrupt\u001b[0m: "
     ]
    }
   ],
   "source": [
    "for i in d.keys():\n",
    "    coco_index = i\n",
    "    coco_data = d[i]\n",
    "    segments_file = val_seg + coco_data['segments_file']\n",
    "    image_file = val_dir + coco_data['image_file']\n",
    "    Image.open(segments_file).show()\n",
    "    Image.open(image_file).show()\n",
    "    input()"
   ]
  },
  {
   "cell_type": "code",
   "execution_count": null,
   "metadata": {},
   "outputs": [],
   "source": [
    "# print(val_ann['annotations'][0].keys())\n",
    "# print(val_ann.keys())\n",
    "# print(val_ann['categories'][:3])\n",
    "# print(coco_cats)\n",
    "# print(val_ann['info'])\n",
    "# print(val_ann['annotations'][0]['image_id'])\n",
    "# print(val_ann[\"annotations\"][0])\n",
    "# print(val_ann['images'])\n",
    "ann = val_ann[\"annotations\"][0]\n",
    "Image.open(val_dir+ann['file_name'].replace('.png','.jpg')).show()\n",
    "# Image.open(val_seg+ann['file_name']).show()\n",
    "# print(coco_cats[23])\n",
    "segmentation = np.array(Image.open(val_seg+ann['file_name']),dtype=np.uint8)\n",
    "segmentation_id = rgb2id(segmentation)\n",
    "for segment_info in ann['segments_info']:\n",
    "    mask = (segmentation_id==segment_info['id'])\n",
    "    Image.fromarray((mask*255).astype(np.uint8),\"L\").show()\n",
    "print(val_ann['images'][0])"
   ]
  },
  {
   "cell_type": "code",
   "execution_count": null,
   "metadata": {},
   "outputs": [],
   "source": []
  },
  {
   "cell_type": "code",
   "execution_count": null,
   "metadata": {},
   "outputs": [],
   "source": []
  }
 ],
 "metadata": {
  "kernelspec": {
   "display_name": "Python 3",
   "language": "python",
   "name": "python3"
  },
  "language_info": {
   "codemirror_mode": {
    "name": "ipython",
    "version": 3
   },
   "file_extension": ".py",
   "mimetype": "text/x-python",
   "name": "python",
   "nbconvert_exporter": "python",
   "pygments_lexer": "ipython3",
   "version": "3.6.5"
  }
 },
 "nbformat": 4,
 "nbformat_minor": 2
}

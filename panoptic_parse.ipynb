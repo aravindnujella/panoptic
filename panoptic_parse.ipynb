{
 "cells": [
  {
   "cell_type": "code",
   "execution_count": null,
   "metadata": {},
   "outputs": [],
   "source": [
    "# Aim of this file is to index \n",
    "# panoptic annotations based on coco id"
   ]
  },
  {
   "cell_type": "code",
   "execution_count": 1,
   "metadata": {
    "ExecuteTime": {
     "end_time": "2018-08-18T07:26:40.755893Z",
     "start_time": "2018-08-18T07:26:40.473076Z"
    }
   },
   "outputs": [],
   "source": [
    "import numpy as np\n",
    "import random\n",
    "import torch\n",
    "import torch.utils.data as data\n",
    "from PIL import Image\n",
    "from PIL import Image, ImageFont, ImageDraw, ImageEnhance\n",
    "\n",
    "import os\n",
    "import json\n",
    "import os.path\n",
    "import colorsys\n",
    "\n",
    "\n",
    "inf = float('inf')\n",
    "nan = float('nan')"
   ]
  },
  {
   "cell_type": "code",
   "execution_count": 2,
   "metadata": {
    "ExecuteTime": {
     "end_time": "2018-08-18T07:26:41.406342Z",
     "start_time": "2018-08-18T07:26:41.401212Z"
    }
   },
   "outputs": [],
   "source": [
    "data_dir = \"/home/aravind/dataset/\"\n",
    "ann_dir = data_dir + \"annotations/panoptic/\"\n",
    "cat_file = ann_dir + \"panoptic_coco_categories.json\"\n",
    "\n",
    "train_img_dir = data_dir + \"train2017/\"\n",
    "train_seg_dir = ann_dir + \"panoptic_train2017/\"\n",
    "train_ann_json = ann_dir + \"panoptic_train2017.json\"\n",
    "\n",
    "val_img_dir = data_dir + \"val2017/\"\n",
    "val_seg_dir = ann_dir + \"panoptic_val2017/\"\n",
    "val_ann_json = ann_dir + \"panoptic_val2017.json\""
   ]
  },
  {
   "cell_type": "code",
   "execution_count": 4,
   "metadata": {
    "ExecuteTime": {
     "end_time": "2018-08-18T07:26:49.668610Z",
     "start_time": "2018-08-18T07:26:49.507572Z"
    }
   },
   "outputs": [],
   "source": [
    "with open(val_ann_json,\"r\") as f:\n",
    "    val_ann = json.load(f)\n",
    "# with open(train_ann_json,\"r\") as f:\n",
    "#     train_ann = json.load(f)\n",
    "with open(cat_file,\"r\") as f:\n",
    "    cat_list = json.load(f)\n",
    "\n",
    "coco_cats = {c['id']: c for c in cat_list}"
   ]
  },
  {
   "cell_type": "code",
   "execution_count": 7,
   "metadata": {
    "ExecuteTime": {
     "end_time": "2018-08-18T07:30:11.182471Z",
     "start_time": "2018-08-18T07:30:11.177443Z"
    }
   },
   "outputs": [
    {
     "name": "stdout",
     "output_type": "stream",
     "text": [
      "[{'supercategory': 'person', 'color': [220, 20, 60], 'isthing': 1, 'id': 1, 'name': 'person'}, {'supercategory': 'vehicle', 'color': [119, 11, 32], 'isthing': 1, 'id': 2, 'name': 'bicycle'}, {'supercategory': 'vehicle', 'color': [0, 0, 142], 'isthing': 1, 'id': 3, 'name': 'car'}, {'supercategory': 'vehicle', 'color': [0, 0, 230], 'isthing': 1, 'id': 4, 'name': 'motorcycle'}, {'supercategory': 'vehicle', 'color': [106, 0, 228], 'isthing': 1, 'id': 5, 'name': 'airplane'}, {'supercategory': 'vehicle', 'color': [0, 60, 100], 'isthing': 1, 'id': 6, 'name': 'bus'}, {'supercategory': 'vehicle', 'color': [0, 80, 100], 'isthing': 1, 'id': 7, 'name': 'train'}, {'supercategory': 'vehicle', 'color': [0, 0, 70], 'isthing': 1, 'id': 8, 'name': 'truck'}, {'supercategory': 'vehicle', 'color': [0, 0, 192], 'isthing': 1, 'id': 9, 'name': 'boat'}, {'supercategory': 'outdoor', 'color': [250, 170, 30], 'isthing': 1, 'id': 10, 'name': 'traffic light'}, {'supercategory': 'outdoor', 'color': [100, 170, 30], 'isthing': 1, 'id': 11, 'name': 'fire hydrant'}, {'supercategory': 'outdoor', 'color': [220, 220, 0], 'isthing': 1, 'id': 13, 'name': 'stop sign'}, {'supercategory': 'outdoor', 'color': [175, 116, 175], 'isthing': 1, 'id': 14, 'name': 'parking meter'}, {'supercategory': 'outdoor', 'color': [250, 0, 30], 'isthing': 1, 'id': 15, 'name': 'bench'}, {'supercategory': 'animal', 'color': [165, 42, 42], 'isthing': 1, 'id': 16, 'name': 'bird'}, {'supercategory': 'animal', 'color': [255, 77, 255], 'isthing': 1, 'id': 17, 'name': 'cat'}, {'supercategory': 'animal', 'color': [0, 226, 252], 'isthing': 1, 'id': 18, 'name': 'dog'}, {'supercategory': 'animal', 'color': [182, 182, 255], 'isthing': 1, 'id': 19, 'name': 'horse'}, {'supercategory': 'animal', 'color': [0, 82, 0], 'isthing': 1, 'id': 20, 'name': 'sheep'}, {'supercategory': 'animal', 'color': [120, 166, 157], 'isthing': 1, 'id': 21, 'name': 'cow'}, {'supercategory': 'animal', 'color': [110, 76, 0], 'isthing': 1, 'id': 22, 'name': 'elephant'}, {'supercategory': 'animal', 'color': [174, 57, 255], 'isthing': 1, 'id': 23, 'name': 'bear'}, {'supercategory': 'animal', 'color': [199, 100, 0], 'isthing': 1, 'id': 24, 'name': 'zebra'}, {'supercategory': 'animal', 'color': [72, 0, 118], 'isthing': 1, 'id': 25, 'name': 'giraffe'}, {'supercategory': 'accessory', 'color': [255, 179, 240], 'isthing': 1, 'id': 27, 'name': 'backpack'}, {'supercategory': 'accessory', 'color': [0, 125, 92], 'isthing': 1, 'id': 28, 'name': 'umbrella'}, {'supercategory': 'accessory', 'color': [209, 0, 151], 'isthing': 1, 'id': 31, 'name': 'handbag'}, {'supercategory': 'accessory', 'color': [188, 208, 182], 'isthing': 1, 'id': 32, 'name': 'tie'}, {'supercategory': 'accessory', 'color': [0, 220, 176], 'isthing': 1, 'id': 33, 'name': 'suitcase'}, {'supercategory': 'sports', 'color': [255, 99, 164], 'isthing': 1, 'id': 34, 'name': 'frisbee'}, {'supercategory': 'sports', 'color': [92, 0, 73], 'isthing': 1, 'id': 35, 'name': 'skis'}, {'supercategory': 'sports', 'color': [133, 129, 255], 'isthing': 1, 'id': 36, 'name': 'snowboard'}, {'supercategory': 'sports', 'color': [78, 180, 255], 'isthing': 1, 'id': 37, 'name': 'sports ball'}, {'supercategory': 'sports', 'color': [0, 228, 0], 'isthing': 1, 'id': 38, 'name': 'kite'}, {'supercategory': 'sports', 'color': [174, 255, 243], 'isthing': 1, 'id': 39, 'name': 'baseball bat'}, {'supercategory': 'sports', 'color': [45, 89, 255], 'isthing': 1, 'id': 40, 'name': 'baseball glove'}, {'supercategory': 'sports', 'color': [134, 134, 103], 'isthing': 1, 'id': 41, 'name': 'skateboard'}, {'supercategory': 'sports', 'color': [145, 148, 174], 'isthing': 1, 'id': 42, 'name': 'surfboard'}, {'supercategory': 'sports', 'color': [255, 208, 186], 'isthing': 1, 'id': 43, 'name': 'tennis racket'}, {'supercategory': 'kitchen', 'color': [197, 226, 255], 'isthing': 1, 'id': 44, 'name': 'bottle'}, {'supercategory': 'kitchen', 'color': [171, 134, 1], 'isthing': 1, 'id': 46, 'name': 'wine glass'}, {'supercategory': 'kitchen', 'color': [109, 63, 54], 'isthing': 1, 'id': 47, 'name': 'cup'}, {'supercategory': 'kitchen', 'color': [207, 138, 255], 'isthing': 1, 'id': 48, 'name': 'fork'}, {'supercategory': 'kitchen', 'color': [151, 0, 95], 'isthing': 1, 'id': 49, 'name': 'knife'}, {'supercategory': 'kitchen', 'color': [9, 80, 61], 'isthing': 1, 'id': 50, 'name': 'spoon'}, {'supercategory': 'kitchen', 'color': [84, 105, 51], 'isthing': 1, 'id': 51, 'name': 'bowl'}, {'supercategory': 'food', 'color': [74, 65, 105], 'isthing': 1, 'id': 52, 'name': 'banana'}, {'supercategory': 'food', 'color': [166, 196, 102], 'isthing': 1, 'id': 53, 'name': 'apple'}, {'supercategory': 'food', 'color': [208, 195, 210], 'isthing': 1, 'id': 54, 'name': 'sandwich'}, {'supercategory': 'food', 'color': [255, 109, 65], 'isthing': 1, 'id': 55, 'name': 'orange'}, {'supercategory': 'food', 'color': [0, 143, 149], 'isthing': 1, 'id': 56, 'name': 'broccoli'}, {'supercategory': 'food', 'color': [179, 0, 194], 'isthing': 1, 'id': 57, 'name': 'carrot'}, {'supercategory': 'food', 'color': [209, 99, 106], 'isthing': 1, 'id': 58, 'name': 'hot dog'}, {'supercategory': 'food', 'color': [5, 121, 0], 'isthing': 1, 'id': 59, 'name': 'pizza'}, {'supercategory': 'food', 'color': [227, 255, 205], 'isthing': 1, 'id': 60, 'name': 'donut'}, {'supercategory': 'food', 'color': [147, 186, 208], 'isthing': 1, 'id': 61, 'name': 'cake'}, {'supercategory': 'furniture', 'color': [153, 69, 1], 'isthing': 1, 'id': 62, 'name': 'chair'}, {'supercategory': 'furniture', 'color': [3, 95, 161], 'isthing': 1, 'id': 63, 'name': 'couch'}, {'supercategory': 'furniture', 'color': [163, 255, 0], 'isthing': 1, 'id': 64, 'name': 'potted plant'}, {'supercategory': 'furniture', 'color': [119, 0, 170], 'isthing': 1, 'id': 65, 'name': 'bed'}, {'supercategory': 'furniture', 'color': [0, 182, 199], 'isthing': 1, 'id': 67, 'name': 'dining table'}, {'supercategory': 'furniture', 'color': [0, 165, 120], 'isthing': 1, 'id': 70, 'name': 'toilet'}, {'supercategory': 'electronic', 'color': [183, 130, 88], 'isthing': 1, 'id': 72, 'name': 'tv'}, {'supercategory': 'electronic', 'color': [95, 32, 0], 'isthing': 1, 'id': 73, 'name': 'laptop'}, {'supercategory': 'electronic', 'color': [130, 114, 135], 'isthing': 1, 'id': 74, 'name': 'mouse'}, {'supercategory': 'electronic', 'color': [110, 129, 133], 'isthing': 1, 'id': 75, 'name': 'remote'}, {'supercategory': 'electronic', 'color': [166, 74, 118], 'isthing': 1, 'id': 76, 'name': 'keyboard'}, {'supercategory': 'electronic', 'color': [219, 142, 185], 'isthing': 1, 'id': 77, 'name': 'cell phone'}, {'supercategory': 'appliance', 'color': [79, 210, 114], 'isthing': 1, 'id': 78, 'name': 'microwave'}, {'supercategory': 'appliance', 'color': [178, 90, 62], 'isthing': 1, 'id': 79, 'name': 'oven'}, {'supercategory': 'appliance', 'color': [65, 70, 15], 'isthing': 1, 'id': 80, 'name': 'toaster'}, {'supercategory': 'appliance', 'color': [127, 167, 115], 'isthing': 1, 'id': 81, 'name': 'sink'}, {'supercategory': 'appliance', 'color': [59, 105, 106], 'isthing': 1, 'id': 82, 'name': 'refrigerator'}, {'supercategory': 'indoor', 'color': [142, 108, 45], 'isthing': 1, 'id': 84, 'name': 'book'}, {'supercategory': 'indoor', 'color': [196, 172, 0], 'isthing': 1, 'id': 85, 'name': 'clock'}, {'supercategory': 'indoor', 'color': [95, 54, 80], 'isthing': 1, 'id': 86, 'name': 'vase'}, {'supercategory': 'indoor', 'color': [128, 76, 255], 'isthing': 1, 'id': 87, 'name': 'scissors'}, {'supercategory': 'indoor', 'color': [201, 57, 1], 'isthing': 1, 'id': 88, 'name': 'teddy bear'}, {'supercategory': 'indoor', 'color': [246, 0, 122], 'isthing': 1, 'id': 89, 'name': 'hair drier'}, {'supercategory': 'indoor', 'color': [191, 162, 208], 'isthing': 1, 'id': 90, 'name': 'toothbrush'}, {'supercategory': 'textile', 'color': [255, 255, 128], 'isthing': 0, 'id': 92, 'name': 'banner'}, {'supercategory': 'textile', 'color': [147, 211, 203], 'isthing': 0, 'id': 93, 'name': 'blanket'}, {'supercategory': 'building', 'color': [150, 100, 100], 'isthing': 0, 'id': 95, 'name': 'bridge'}, {'supercategory': 'raw-material', 'color': [168, 171, 172], 'isthing': 0, 'id': 100, 'name': 'cardboard'}, {'supercategory': 'furniture-stuff', 'color': [146, 112, 198], 'isthing': 0, 'id': 107, 'name': 'counter'}, {'supercategory': 'textile', 'color': [210, 170, 100], 'isthing': 0, 'id': 109, 'name': 'curtain'}, {'supercategory': 'furniture-stuff', 'color': [92, 136, 89], 'isthing': 0, 'id': 112, 'name': 'door-stuff'}, {'supercategory': 'floor', 'color': [218, 88, 184], 'isthing': 0, 'id': 118, 'name': 'floor-wood'}, {'supercategory': 'plant', 'color': [241, 129, 0], 'isthing': 0, 'id': 119, 'name': 'flower'}, {'supercategory': 'food-stuff', 'color': [217, 17, 255], 'isthing': 0, 'id': 122, 'name': 'fruit'}, {'supercategory': 'ground', 'color': [124, 74, 181], 'isthing': 0, 'id': 125, 'name': 'gravel'}, {'supercategory': 'building', 'color': [70, 70, 70], 'isthing': 0, 'id': 128, 'name': 'house'}, {'supercategory': 'furniture-stuff', 'color': [255, 228, 255], 'isthing': 0, 'id': 130, 'name': 'light'}, {'supercategory': 'furniture-stuff', 'color': [154, 208, 0], 'isthing': 0, 'id': 133, 'name': 'mirror-stuff'}, {'supercategory': 'structural', 'color': [193, 0, 92], 'isthing': 0, 'id': 138, 'name': 'net'}, {'supercategory': 'textile', 'color': [76, 91, 113], 'isthing': 0, 'id': 141, 'name': 'pillow'}, {'supercategory': 'ground', 'color': [255, 180, 195], 'isthing': 0, 'id': 144, 'name': 'platform'}, {'supercategory': 'ground', 'color': [106, 154, 176], 'isthing': 0, 'id': 145, 'name': 'playingfield'}, {'supercategory': 'ground', 'color': [230, 150, 140], 'isthing': 0, 'id': 147, 'name': 'railroad'}, {'supercategory': 'water', 'color': [60, 143, 255], 'isthing': 0, 'id': 148, 'name': 'river'}, {'supercategory': 'ground', 'color': [128, 64, 128], 'isthing': 0, 'id': 149, 'name': 'road'}, {'supercategory': 'building', 'color': [92, 82, 55], 'isthing': 0, 'id': 151, 'name': 'roof'}, {'supercategory': 'ground', 'color': [254, 212, 124], 'isthing': 0, 'id': 154, 'name': 'sand'}, {'supercategory': 'water', 'color': [73, 77, 174], 'isthing': 0, 'id': 155, 'name': 'sea'}, {'supercategory': 'furniture-stuff', 'color': [255, 160, 98], 'isthing': 0, 'id': 156, 'name': 'shelf'}, {'supercategory': 'ground', 'color': [255, 255, 255], 'isthing': 0, 'id': 159, 'name': 'snow'}, {'supercategory': 'furniture-stuff', 'color': [104, 84, 109], 'isthing': 0, 'id': 161, 'name': 'stairs'}, {'supercategory': 'building', 'color': [169, 164, 131], 'isthing': 0, 'id': 166, 'name': 'tent'}, {'supercategory': 'textile', 'color': [225, 199, 255], 'isthing': 0, 'id': 168, 'name': 'towel'}, {'supercategory': 'wall', 'color': [137, 54, 74], 'isthing': 0, 'id': 171, 'name': 'wall-brick'}, {'supercategory': 'wall', 'color': [135, 158, 223], 'isthing': 0, 'id': 175, 'name': 'wall-stone'}, {'supercategory': 'wall', 'color': [7, 246, 231], 'isthing': 0, 'id': 176, 'name': 'wall-tile'}, {'supercategory': 'wall', 'color': [107, 255, 200], 'isthing': 0, 'id': 177, 'name': 'wall-wood'}, {'supercategory': 'water', 'color': [58, 41, 149], 'isthing': 0, 'id': 178, 'name': 'water-other'}, {'supercategory': 'window', 'color': [183, 121, 142], 'isthing': 0, 'id': 180, 'name': 'window-blind'}, {'supercategory': 'window', 'color': [255, 73, 97], 'isthing': 0, 'id': 181, 'name': 'window-other'}, {'supercategory': 'plant', 'color': [107, 142, 35], 'isthing': 0, 'id': 184, 'name': 'tree-merged'}, {'supercategory': 'structural', 'color': [190, 153, 153], 'isthing': 0, 'id': 185, 'name': 'fence-merged'}, {'supercategory': 'ceiling', 'color': [146, 139, 141], 'isthing': 0, 'id': 186, 'name': 'ceiling-merged'}, {'supercategory': 'sky', 'color': [70, 130, 180], 'isthing': 0, 'id': 187, 'name': 'sky-other-merged'}, {'supercategory': 'furniture-stuff', 'color': [134, 199, 156], 'isthing': 0, 'id': 188, 'name': 'cabinet-merged'}, {'supercategory': 'furniture-stuff', 'color': [209, 226, 140], 'isthing': 0, 'id': 189, 'name': 'table-merged'}, {'supercategory': 'floor', 'color': [96, 36, 108], 'isthing': 0, 'id': 190, 'name': 'floor-other-merged'}, {'supercategory': 'ground', 'color': [96, 96, 96], 'isthing': 0, 'id': 191, 'name': 'pavement-merged'}, {'supercategory': 'solid', 'color': [64, 170, 64], 'isthing': 0, 'id': 192, 'name': 'mountain-merged'}, {'supercategory': 'plant', 'color': [152, 251, 152], 'isthing': 0, 'id': 193, 'name': 'grass-merged'}, {'supercategory': 'ground', 'color': [208, 229, 228], 'isthing': 0, 'id': 194, 'name': 'dirt-merged'}, {'supercategory': 'raw-material', 'color': [206, 186, 171], 'isthing': 0, 'id': 195, 'name': 'paper-merged'}, {'supercategory': 'food-stuff', 'color': [152, 161, 64], 'isthing': 0, 'id': 196, 'name': 'food-other-merged'}, {'supercategory': 'building', 'color': [116, 112, 0], 'isthing': 0, 'id': 197, 'name': 'building-other-merged'}, {'supercategory': 'solid', 'color': [0, 114, 143], 'isthing': 0, 'id': 198, 'name': 'rock-merged'}, {'supercategory': 'wall', 'color': [102, 102, 156], 'isthing': 0, 'id': 199, 'name': 'wall-other-merged'}, {'supercategory': 'textile', 'color': [250, 141, 255], 'isthing': 0, 'id': 200, 'name': 'rug-merged'}]\n"
     ]
    }
   ],
   "source": [
    "# print(coco_cats)\n",
    "print(cat_list)"
   ]
  },
  {
   "cell_type": "code",
   "execution_count": 4,
   "metadata": {
    "ExecuteTime": {
     "end_time": "2018-08-18T00:55:15.210356Z",
     "start_time": "2018-08-18T00:55:15.205356Z"
    }
   },
   "outputs": [],
   "source": [
    "def rgb2id(color):\n",
    "    return color[:, :, 0] + 256 * color[:, :, 1] + 256 * 256 * color[:, :, 2]"
   ]
  },
  {
   "cell_type": "code",
   "execution_count": 13,
   "metadata": {},
   "outputs": [
    {
     "name": "stdout",
     "output_type": "stream",
     "text": [
      "{'segments_info': [{'id': 3226956, 'category_id': 1, 'iscrowd': 0, 'bbox': [413, 158, 53, 138], 'area': 2840}, {'id': 6979964, 'category_id': 1, 'iscrowd': 0, 'bbox': [384, 172, 16, 36], 'area': 439}, {'id': 3103374, 'category_id': 62, 'iscrowd': 0, 'bbox': [413, 223, 30, 81], 'area': 1250}, {'id': 2831194, 'category_id': 62, 'iscrowd': 0, 'bbox': [291, 218, 62, 98], 'area': 1848}, {'id': 3496593, 'category_id': 62, 'iscrowd': 0, 'bbox': [412, 219, 10, 13], 'area': 90}, {'id': 2633066, 'category_id': 62, 'iscrowd': 0, 'bbox': [317, 219, 22, 12], 'area': 212}, {'id': 3165572, 'category_id': 62, 'iscrowd': 0, 'bbox': [359, 218, 56, 103], 'area': 2251}, {'id': 8824489, 'category_id': 64, 'iscrowd': 0, 'bbox': [237, 149, 24, 62], 'area': 369}, {'id': 3032951, 'category_id': 67, 'iscrowd': 0, 'bbox': [321, 231, 126, 89], 'area': 2134}, {'id': 2038814, 'category_id': 72, 'iscrowd': 0, 'bbox': [7, 168, 149, 95], 'area': 13247}, {'id': 3289671, 'category_id': 72, 'iscrowd': 0, 'bbox': [557, 209, 82, 79], 'area': 5846}, {'id': 2437710, 'category_id': 78, 'iscrowd': 0, 'bbox': [512, 206, 15, 16], 'area': 224}, {'id': 4159376, 'category_id': 82, 'iscrowd': 0, 'bbox': [493, 174, 20, 108], 'area': 2056}, {'id': 3423599, 'category_id': 84, 'iscrowd': 0, 'bbox': [613, 308, 13, 46], 'area': 324}, {'id': 3094634, 'category_id': 84, 'iscrowd': 0, 'bbox': [605, 306, 14, 45], 'area': 331}, {'id': 3296100, 'category_id': 85, 'iscrowd': 0, 'bbox': [448, 121, 14, 22], 'area': 227}, {'id': 6054280, 'category_id': 86, 'iscrowd': 0, 'bbox': [241, 195, 14, 18], 'area': 187}, {'id': 5942189, 'category_id': 86, 'iscrowd': 0, 'bbox': [549, 309, 36, 90], 'area': 2171}, {'id': 4086154, 'category_id': 86, 'iscrowd': 0, 'bbox': [351, 209, 11, 22], 'area': 178}, {'id': 7438777, 'category_id': 86, 'iscrowd': 0, 'bbox': [337, 200, 10, 16], 'area': 120}, {'id': 3031159, 'category_id': 118, 'iscrowd': 0, 'bbox': [0, 269, 564, 157], 'area': 49754}, {'id': 9284267, 'category_id': 119, 'iscrowd': 0, 'bbox': [338, 166, 29, 50], 'area': 842}, {'id': 6068135, 'category_id': 130, 'iscrowd': 0, 'bbox': [212, 11, 321, 127], 'area': 3391}, {'id': 2567230, 'category_id': 156, 'iscrowd': 0, 'bbox': [129, 168, 351, 162], 'area': 5699}, {'id': 10334639, 'category_id': 181, 'iscrowd': 0, 'bbox': [204, 63, 234, 174], 'area': 15587}, {'id': 6266027, 'category_id': 186, 'iscrowd': 0, 'bbox': [136, 0, 473, 116], 'area': 20106}, {'id': 5274512, 'category_id': 188, 'iscrowd': 0, 'bbox': [0, 38, 549, 297], 'area': 25483}, {'id': 7238567, 'category_id': 189, 'iscrowd': 0, 'bbox': [457, 350, 183, 76], 'area': 9421}, {'id': 4224910, 'category_id': 199, 'iscrowd': 0, 'bbox': [0, 0, 640, 358], 'area': 83201}, {'id': 6391959, 'category_id': 200, 'iscrowd': 0, 'bbox': [135, 359, 336, 67], 'area': 12618}], 'file_name': '000000000139.png', 'image_id': 139}\n",
      "{'license': 4, 'file_name': '000000397133.jpg', 'coco_url': 'http://images.cocodataset.org/val2017/000000397133.jpg', 'height': 427, 'width': 640, 'date_captured': '2013-11-14 17:02:52', 'flickr_url': 'http://farm7.staticflickr.com/6116/6255196340_da26cf2c9e_z.jpg', 'id': 397133}\n"
     ]
    }
   ],
   "source": [
    "print(val_ann['annotations'][0])\n",
    "print(val_ann['images'][0])"
   ]
  },
  {
   "cell_type": "code",
   "execution_count": 5,
   "metadata": {
    "ExecuteTime": {
     "end_time": "2018-08-18T00:55:19.749357Z",
     "start_time": "2018-08-18T00:55:19.743054Z"
    }
   },
   "outputs": [],
   "source": [
    "# takes annotations and\n",
    "# returns a dict indexed on coco index\n",
    "# dict {image_id : segment_info, segment_file, image_file}\n",
    "\n",
    "\n",
    "def index_panoptic(ann):\n",
    "    d = {}\n",
    "    for i in ann['annotations']:\n",
    "        coco_index = i['image_id']\n",
    "        d[coco_index] = {'segments_info': i['segments_info'],\n",
    "                         'segments_file': i['file_name']}\n",
    "    for i in ann['images']:\n",
    "        coco_index = i['id']\n",
    "        image_file = i['file_name']\n",
    "        d[coco_index]['image_file'] = image_file\n",
    "    return d"
   ]
  },
  {
   "cell_type": "code",
   "execution_count": 7,
   "metadata": {
    "ExecuteTime": {
     "end_time": "2018-08-18T00:56:05.308522Z",
     "start_time": "2018-08-18T00:56:04.192391Z"
    }
   },
   "outputs": [],
   "source": [
    "d = index_panoptic(train_ann)\n",
    "# with open('some.json',\"w\") as f:\n",
    "#     json.dump(d,f)"
   ]
  },
  {
   "cell_type": "code",
   "execution_count": 8,
   "metadata": {
    "ExecuteTime": {
     "end_time": "2018-08-18T00:56:16.350637Z",
     "start_time": "2018-08-18T00:56:11.068982Z"
    }
   },
   "outputs": [],
   "source": [
    "with open('some.json',\"r\") as f:\n",
    "    k = json.load(f)"
   ]
  },
  {
   "cell_type": "code",
   "execution_count": 21,
   "metadata": {},
   "outputs": [
    {
     "name": "stdout",
     "output_type": "stream",
     "text": [
      "\n",
      "\n"
     ]
    },
    {
     "ename": "KeyboardInterrupt",
     "evalue": "",
     "output_type": "error",
     "traceback": [
      "\u001b[0;31m---------------------------------------------------------------------------\u001b[0m",
      "\u001b[0;31mKeyboardInterrupt\u001b[0m                         Traceback (most recent call last)",
      "\u001b[0;32m~/anaconda3/lib/python3.6/site-packages/ipykernel/kernelbase.py\u001b[0m in \u001b[0;36m_input_request\u001b[0;34m(self, prompt, ident, parent, password)\u001b[0m\n\u001b[1;32m    728\u001b[0m             \u001b[0;32mtry\u001b[0m\u001b[0;34m:\u001b[0m\u001b[0;34m\u001b[0m\u001b[0m\n\u001b[0;32m--> 729\u001b[0;31m                 \u001b[0mident\u001b[0m\u001b[0;34m,\u001b[0m \u001b[0mreply\u001b[0m \u001b[0;34m=\u001b[0m \u001b[0mself\u001b[0m\u001b[0;34m.\u001b[0m\u001b[0msession\u001b[0m\u001b[0;34m.\u001b[0m\u001b[0mrecv\u001b[0m\u001b[0;34m(\u001b[0m\u001b[0mself\u001b[0m\u001b[0;34m.\u001b[0m\u001b[0mstdin_socket\u001b[0m\u001b[0;34m,\u001b[0m \u001b[0;36m0\u001b[0m\u001b[0;34m)\u001b[0m\u001b[0;34m\u001b[0m\u001b[0m\n\u001b[0m\u001b[1;32m    730\u001b[0m             \u001b[0;32mexcept\u001b[0m \u001b[0mException\u001b[0m\u001b[0;34m:\u001b[0m\u001b[0;34m\u001b[0m\u001b[0m\n",
      "\u001b[0;32m~/anaconda3/lib/python3.6/site-packages/jupyter_client/session.py\u001b[0m in \u001b[0;36mrecv\u001b[0;34m(self, socket, mode, content, copy)\u001b[0m\n\u001b[1;32m    802\u001b[0m         \u001b[0;32mtry\u001b[0m\u001b[0;34m:\u001b[0m\u001b[0;34m\u001b[0m\u001b[0m\n\u001b[0;32m--> 803\u001b[0;31m             \u001b[0mmsg_list\u001b[0m \u001b[0;34m=\u001b[0m \u001b[0msocket\u001b[0m\u001b[0;34m.\u001b[0m\u001b[0mrecv_multipart\u001b[0m\u001b[0;34m(\u001b[0m\u001b[0mmode\u001b[0m\u001b[0;34m,\u001b[0m \u001b[0mcopy\u001b[0m\u001b[0;34m=\u001b[0m\u001b[0mcopy\u001b[0m\u001b[0;34m)\u001b[0m\u001b[0;34m\u001b[0m\u001b[0m\n\u001b[0m\u001b[1;32m    804\u001b[0m         \u001b[0;32mexcept\u001b[0m \u001b[0mzmq\u001b[0m\u001b[0;34m.\u001b[0m\u001b[0mZMQError\u001b[0m \u001b[0;32mas\u001b[0m \u001b[0me\u001b[0m\u001b[0;34m:\u001b[0m\u001b[0;34m\u001b[0m\u001b[0m\n",
      "\u001b[0;32m~/anaconda3/lib/python3.6/site-packages/zmq/sugar/socket.py\u001b[0m in \u001b[0;36mrecv_multipart\u001b[0;34m(self, flags, copy, track)\u001b[0m\n\u001b[1;32m    465\u001b[0m         \"\"\"\n\u001b[0;32m--> 466\u001b[0;31m         \u001b[0mparts\u001b[0m \u001b[0;34m=\u001b[0m \u001b[0;34m[\u001b[0m\u001b[0mself\u001b[0m\u001b[0;34m.\u001b[0m\u001b[0mrecv\u001b[0m\u001b[0;34m(\u001b[0m\u001b[0mflags\u001b[0m\u001b[0;34m,\u001b[0m \u001b[0mcopy\u001b[0m\u001b[0;34m=\u001b[0m\u001b[0mcopy\u001b[0m\u001b[0;34m,\u001b[0m \u001b[0mtrack\u001b[0m\u001b[0;34m=\u001b[0m\u001b[0mtrack\u001b[0m\u001b[0;34m)\u001b[0m\u001b[0;34m]\u001b[0m\u001b[0;34m\u001b[0m\u001b[0m\n\u001b[0m\u001b[1;32m    467\u001b[0m         \u001b[0;31m# have first part already, only loop while more to receive\u001b[0m\u001b[0;34m\u001b[0m\u001b[0;34m\u001b[0m\u001b[0m\n",
      "\u001b[0;32mzmq/backend/cython/socket.pyx\u001b[0m in \u001b[0;36mzmq.backend.cython.socket.Socket.recv\u001b[0;34m()\u001b[0m\n",
      "\u001b[0;32mzmq/backend/cython/socket.pyx\u001b[0m in \u001b[0;36mzmq.backend.cython.socket.Socket.recv\u001b[0;34m()\u001b[0m\n",
      "\u001b[0;32mzmq/backend/cython/socket.pyx\u001b[0m in \u001b[0;36mzmq.backend.cython.socket._recv_copy\u001b[0;34m()\u001b[0m\n",
      "\u001b[0;32m~/anaconda3/lib/python3.6/site-packages/zmq/backend/cython/checkrc.pxd\u001b[0m in \u001b[0;36mzmq.backend.cython.checkrc._check_rc\u001b[0;34m()\u001b[0m\n",
      "\u001b[0;31mKeyboardInterrupt\u001b[0m: ",
      "\nDuring handling of the above exception, another exception occurred:\n",
      "\u001b[0;31mKeyboardInterrupt\u001b[0m                         Traceback (most recent call last)",
      "\u001b[0;32m<ipython-input-21-06a61e8237a7>\u001b[0m in \u001b[0;36m<module>\u001b[0;34m()\u001b[0m\n\u001b[1;32m      6\u001b[0m     \u001b[0mImage\u001b[0m\u001b[0;34m.\u001b[0m\u001b[0mopen\u001b[0m\u001b[0;34m(\u001b[0m\u001b[0msegments_file\u001b[0m\u001b[0;34m)\u001b[0m\u001b[0;34m.\u001b[0m\u001b[0mshow\u001b[0m\u001b[0;34m(\u001b[0m\u001b[0;34m)\u001b[0m\u001b[0;34m\u001b[0m\u001b[0m\n\u001b[1;32m      7\u001b[0m     \u001b[0mImage\u001b[0m\u001b[0;34m.\u001b[0m\u001b[0mopen\u001b[0m\u001b[0;34m(\u001b[0m\u001b[0mimage_file\u001b[0m\u001b[0;34m)\u001b[0m\u001b[0;34m.\u001b[0m\u001b[0mshow\u001b[0m\u001b[0;34m(\u001b[0m\u001b[0;34m)\u001b[0m\u001b[0;34m\u001b[0m\u001b[0m\n\u001b[0;32m----> 8\u001b[0;31m     \u001b[0minput\u001b[0m\u001b[0;34m(\u001b[0m\u001b[0;34m)\u001b[0m\u001b[0;34m\u001b[0m\u001b[0m\n\u001b[0m",
      "\u001b[0;32m~/anaconda3/lib/python3.6/site-packages/ipykernel/kernelbase.py\u001b[0m in \u001b[0;36mraw_input\u001b[0;34m(self, prompt)\u001b[0m\n\u001b[1;32m    702\u001b[0m             \u001b[0mself\u001b[0m\u001b[0;34m.\u001b[0m\u001b[0m_parent_ident\u001b[0m\u001b[0;34m,\u001b[0m\u001b[0;34m\u001b[0m\u001b[0m\n\u001b[1;32m    703\u001b[0m             \u001b[0mself\u001b[0m\u001b[0;34m.\u001b[0m\u001b[0m_parent_header\u001b[0m\u001b[0;34m,\u001b[0m\u001b[0;34m\u001b[0m\u001b[0m\n\u001b[0;32m--> 704\u001b[0;31m             \u001b[0mpassword\u001b[0m\u001b[0;34m=\u001b[0m\u001b[0;32mFalse\u001b[0m\u001b[0;34m,\u001b[0m\u001b[0;34m\u001b[0m\u001b[0m\n\u001b[0m\u001b[1;32m    705\u001b[0m         )\n\u001b[1;32m    706\u001b[0m \u001b[0;34m\u001b[0m\u001b[0m\n",
      "\u001b[0;32m~/anaconda3/lib/python3.6/site-packages/ipykernel/kernelbase.py\u001b[0m in \u001b[0;36m_input_request\u001b[0;34m(self, prompt, ident, parent, password)\u001b[0m\n\u001b[1;32m    732\u001b[0m             \u001b[0;32mexcept\u001b[0m \u001b[0mKeyboardInterrupt\u001b[0m\u001b[0;34m:\u001b[0m\u001b[0;34m\u001b[0m\u001b[0m\n\u001b[1;32m    733\u001b[0m                 \u001b[0;31m# re-raise KeyboardInterrupt, to truncate traceback\u001b[0m\u001b[0;34m\u001b[0m\u001b[0;34m\u001b[0m\u001b[0m\n\u001b[0;32m--> 734\u001b[0;31m                 \u001b[0;32mraise\u001b[0m \u001b[0mKeyboardInterrupt\u001b[0m\u001b[0;34m\u001b[0m\u001b[0m\n\u001b[0m\u001b[1;32m    735\u001b[0m             \u001b[0;32melse\u001b[0m\u001b[0;34m:\u001b[0m\u001b[0;34m\u001b[0m\u001b[0m\n\u001b[1;32m    736\u001b[0m                 \u001b[0;32mbreak\u001b[0m\u001b[0;34m\u001b[0m\u001b[0m\n",
      "\u001b[0;31mKeyboardInterrupt\u001b[0m: "
     ]
    }
   ],
   "source": [
    "for i in d.keys():\n",
    "    coco_index = i\n",
    "    coco_data = d[i]\n",
    "    segments_file = val_seg + coco_data['segments_file']\n",
    "    image_file = val_dir + coco_data['image_file']\n",
    "    Image.open(segments_file).show()\n",
    "    Image.open(image_file).show()\n",
    "    input()"
   ]
  },
  {
   "cell_type": "code",
   "execution_count": null,
   "metadata": {},
   "outputs": [],
   "source": [
    "# print(val_ann['annotations'][0].keys())\n",
    "# print(val_ann.keys())\n",
    "# print(val_ann['categories'][:3])\n",
    "# print(coco_cats)\n",
    "# print(val_ann['info'])\n",
    "# print(val_ann['annotations'][0]['image_id'])\n",
    "# print(val_ann[\"annotations\"][0])\n",
    "# print(val_ann['images'])\n",
    "ann = val_ann[\"annotations\"][0]\n",
    "Image.open(val_dir+ann['file_name'].replace('.png','.jpg')).show()\n",
    "# Image.open(val_seg+ann['file_name']).show()\n",
    "# print(coco_cats[23])\n",
    "segmentation = np.array(Image.open(val_seg+ann['file_name']),dtype=np.uint8)\n",
    "segmentation_id = rgb2id(segmentation)\n",
    "for segment_info in ann['segments_info']:\n",
    "    mask = (segmentation_id==segment_info['id'])\n",
    "    Image.fromarray((mask*255).astype(np.uint8),\"L\").show()\n",
    "print(val_ann['images'][0])"
   ]
  },
  {
   "cell_type": "code",
   "execution_count": null,
   "metadata": {},
   "outputs": [],
   "source": []
  },
  {
   "cell_type": "code",
   "execution_count": null,
   "metadata": {},
   "outputs": [],
   "source": []
  }
 ],
 "metadata": {
  "kernelspec": {
   "display_name": "Python 3",
   "language": "python",
   "name": "python3"
  },
  "language_info": {
   "codemirror_mode": {
    "name": "ipython",
    "version": 3
   },
   "file_extension": ".py",
   "mimetype": "text/x-python",
   "name": "python",
   "nbconvert_exporter": "python",
   "pygments_lexer": "ipython3",
   "version": "3.6.5"
  }
 },
 "nbformat": 4,
 "nbformat_minor": 2
}

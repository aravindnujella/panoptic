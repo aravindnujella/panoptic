{
 "cells": [
  {
   "cell_type": "code",
   "execution_count": 1,
   "metadata": {
    "ExecuteTime": {
     "end_time": "2018-11-02T01:47:44.861464Z",
     "start_time": "2018-11-02T01:47:44.330301Z"
    }
   },
   "outputs": [],
   "source": [
    "import importlib\n",
    "\n",
    "import model\n",
    "import pan_loader\n",
    "import base_config\n",
    "import loss_functions as L\n",
    "\n",
    "import utils\n",
    "\n",
    "import torch\n",
    "import torch.nn as nn\n",
    "import torch.optim as optim\n",
    "\n",
    "import os\n",
    "import time\n",
    "os.environ[\"CUDA_DEVICE_ORDER\"] = \"PCI_BUS_ID\"\n",
    "os.environ[\"CUDA_VISIBLE_DEVICES\"] = \"1\"\n"
   ]
  },
  {
   "cell_type": "code",
   "execution_count": 2,
   "metadata": {
    "ExecuteTime": {
     "end_time": "2018-11-02T01:47:44.867672Z",
     "start_time": "2018-11-02T01:47:44.864071Z"
    }
   },
   "outputs": [],
   "source": [
    "data_dir = \"/home/aravind/dataset/\"\n",
    "ann_dir = data_dir + \"annotations/panoptic/\"\n",
    "\n",
    "train_img_dir = data_dir + \"train2017/\"\n",
    "train_seg_dir = ann_dir + \"panoptic_train2017/\"\n",
    "train_ann_json = ann_dir + \"panoptic_train2017.json\"\n",
    "\n",
    "val_img_dir = data_dir + \"val2017/\"\n",
    "val_seg_dir = ann_dir + \"panoptic_val2017/\"\n",
    "val_ann_json = ann_dir + \"panoptic_val2017.json\"\n",
    "\n",
    "# train_img_dir = val_img_dir \n",
    "# train_seg_dir = val_seg_dir \n",
    "# train_ann_json = val_ann_json "
   ]
  },
  {
   "cell_type": "code",
   "execution_count": 3,
   "metadata": {
    "ExecuteTime": {
     "end_time": "2018-11-02T01:47:51.645709Z",
     "start_time": "2018-11-02T01:47:44.869825Z"
    }
   },
   "outputs": [],
   "source": [
    "with open(val_ann_json,\"r\") as f:\n",
    "    val_ann = json.load(f)\n",
    "with open(train_ann_json,\"r\") as f:\n",
    "    train_ann = json.load(f)"
   ]
  },
  {
   "cell_type": "code",
   "execution_count": 4,
   "metadata": {
    "ExecuteTime": {
     "end_time": "2018-11-02T01:47:51.650555Z",
     "start_time": "2018-11-02T01:47:51.648061Z"
    }
   },
   "outputs": [],
   "source": [
    "config = base_config.Config()"
   ]
  },
  {
   "cell_type": "code",
   "execution_count": 5,
   "metadata": {
    "ExecuteTime": {
     "end_time": "2018-11-02T01:47:51.942580Z",
     "start_time": "2018-11-02T01:47:51.652387Z"
    }
   },
   "outputs": [],
   "source": [
    "train_loader = pan_loader.get_loader(train_img_dir, train_seg_dir, train_ann, config)\n",
    "val_loader = pan_loader.get_loader(val_img_dir, val_seg_dir, val_ann, config)"
   ]
  },
  {
   "cell_type": "code",
   "execution_count": 6,
   "metadata": {
    "ExecuteTime": {
     "end_time": "2018-11-02T01:47:54.294285Z",
     "start_time": "2018-11-02T01:47:51.944978Z"
    }
   },
   "outputs": [],
   "source": [
    "net = model.hgmodel()\n",
    "# model_dir=\"models/\"\n",
    "# model_name=\"first_0.pt\"\n",
    "# pretrained_dict = torch.load(model_dir+model_name)\n",
    "# net_dict = net.state_dict()\n",
    "\n",
    "# pretrained_dict = {k: v for k, v in pretrained_dict.items() if k in net_dict}\n",
    "# net_dict.update(pretrained_dict) \n",
    "# net.load_state_dict(net_dict)\n"
   ]
  },
  {
   "cell_type": "code",
   "execution_count": 7,
   "metadata": {
    "ExecuteTime": {
     "end_time": "2018-11-02T01:47:54.327250Z",
     "start_time": "2018-11-02T01:47:54.296696Z"
    }
   },
   "outputs": [
    {
     "name": "stdout",
     "output_type": "stream",
     "text": [
      "37761792 11222096\n"
     ]
    }
   ],
   "source": [
    "def set_trainable(module,state):\n",
    "    for param in module.parameters():\n",
    "        param.requires_grad = state\n",
    "\n",
    "set_trainable(net,False)\n",
    "\n",
    "set_trainable(net.mb0,True)\n",
    "# set_trainable(net.mb1,True)\n",
    "set_trainable(net.cb,True)\n",
    "\n",
    "set_trainable(net.iresnet0, False)\n",
    "# set_trainable(net.iresnet1, False)\n",
    "\n",
    "for name,module in net.iresnet0.named_modules():\n",
    "    if 'copy_bn' in name:\n",
    "        set_trainable(module, False)\n",
    "    elif 'copy_conv' in name:\n",
    "        set_trainable(module, False)\n",
    "    elif 'wing' in name:\n",
    "        set_trainable(module, True)\n",
    "    else:\n",
    "        set_trainable(module, False)\n",
    "        if isinstance(module, nn.BatchNorm2d):\n",
    "            module.eval()\n",
    "        \n",
    "param_lr = []\n",
    "param_lr.append({'params': net.mb0.parameters(),'lr':1e-4,'momentum':0.9})\n",
    "# param_lr.append({'params': net.mb1.parameters(),'lr':1e-4,'momentum':0.9})\n",
    "param_lr.append({'params': net.cb.parameters(),'lr':1e-4,'momentum':0.9})\n",
    "\n",
    "# for name,module in net.iresnet0.named_modules():\n",
    "#     if 'copy_bn' in name:\n",
    "#         param_lr.append({'params':module.parameters(),'lr':1e-4,'momentum':0.9})\n",
    "#     elif 'copy_conv' in name:\n",
    "#         param_lr.append({'params':module.parameters(),'lr':1e-4,'momentum':0.9})\n",
    "\n",
    "for name,child in net.iresnet0.named_children():\n",
    "    if 'wing' in name:\n",
    "        param_lr.append({'params':child.parameters(),'lr':1e-4,'momentum':0.9})\n",
    "\n",
    "# param_lr = [{'params':net.parameters(),'lr':1e-4, 'momentum':0.9}]\n",
    "net_size = sum([i.numel() for i in net.parameters()])\n",
    "trainable_params = filter(lambda p: p.requires_grad, net.parameters())\n",
    "trainable_size = sum([i.numel() for i in trainable_params])\n",
    "print(net_size,trainable_size)\n",
    "optimizer = optim.SGD(param_lr, weight_decay=1e-4)"
   ]
  },
  {
   "cell_type": "code",
   "execution_count": null,
   "metadata": {
    "ExecuteTime": {
     "start_time": "2018-11-02T01:12:36.976Z"
    }
   },
   "outputs": [],
   "source": [
    "# net = nn.DataParallel(net, device_ids=[0,1])\n",
    "net = net.cuda()"
   ]
  },
  {
   "cell_type": "code",
   "execution_count": null,
   "metadata": {
    "ExecuteTime": {
     "start_time": "2018-11-02T01:12:36.979Z"
    },
    "scrolled": false
   },
   "outputs": [],
   "source": [
    "ckpt = utils.Checkpoint(iters_per_epoch=20, model_dir=\"./models/\", model_name=\"fourth\")\n",
    "for i, data in enumerate(train_loader,0):\n",
    "    optimizer.zero_grad()\n",
    "    \n",
    "    images, impulses, instance_masks, cat_ids = utils.cudify_data(data)\n",
    "    mask_logits, cat_scores = net([images,instance_masks])\n",
    "    mask_loss = L.balanced_bce(mask_logits, instance_masks.unsqueeze(1))\n",
    "\n",
    "    loss = mask_loss\n",
    "    mean_iou = L.mean_iou(mask_logits, instance_masks.unsqueeze(1))\n",
    "    ckpt.update({\"mask_loss\":mask_loss, \"mean_iou\":mean_iou}, net)\n",
    "    loss.backward()\n",
    "    optimizer.step()"
   ]
  },
  {
   "cell_type": "code",
   "execution_count": null,
   "metadata": {},
   "outputs": [],
   "source": []
  },
  {
   "cell_type": "code",
   "execution_count": null,
   "metadata": {},
   "outputs": [],
   "source": []
  },
  {
   "cell_type": "code",
   "execution_count": null,
   "metadata": {},
   "outputs": [],
   "source": []
  }
 ],
 "metadata": {
  "kernelspec": {
   "display_name": "Python 3",
   "language": "python",
   "name": "python3"
  },
  "language_info": {
   "codemirror_mode": {
    "name": "ipython",
    "version": 3
   },
   "file_extension": ".py",
   "mimetype": "text/x-python",
   "name": "python",
   "nbconvert_exporter": "python",
   "pygments_lexer": "ipython3",
   "version": "3.6.5"
  }
 },
 "nbformat": 4,
 "nbformat_minor": 2
}

{
 "cells": [
  {
   "cell_type": "code",
   "execution_count": 1,
   "metadata": {
    "ExecuteTime": {
     "end_time": "2018-10-19T20:39:55.831421Z",
     "start_time": "2018-10-19T20:39:55.313161Z"
    }
   },
   "outputs": [],
   "source": [
    "import importlib\n",
    "\n",
    "import model\n",
    "import pan_loader\n",
    "import base_config\n",
    "import loss_functions as L\n",
    "\n",
    "import utils\n",
    "\n",
    "import torch\n",
    "import torch.optim as optim\n",
    "\n",
    "import os\n",
    "import time\n",
    "os.environ[\"CUDA_DEVICE_ORDER\"] = \"PCI_BUS_ID\"\n",
    "os.environ[\"CUDA_VISIBLE_DEVICES\"] = \"1\"\n"
   ]
  },
  {
   "cell_type": "code",
   "execution_count": 2,
   "metadata": {
    "ExecuteTime": {
     "end_time": "2018-10-19T20:39:55.838343Z",
     "start_time": "2018-10-19T20:39:55.834120Z"
    }
   },
   "outputs": [],
   "source": [
    "data_dir = \"/home/aravind/dataset/\"\n",
    "ann_dir = data_dir + \"annotations/panoptic/\"\n",
    "\n",
    "train_img_dir = data_dir + \"train2017/\"\n",
    "train_seg_dir = ann_dir + \"panoptic_train2017/\"\n",
    "train_ann_json = ann_dir + \"panoptic_train2017.json\"\n",
    "\n",
    "val_img_dir = data_dir + \"val2017/\"\n",
    "val_seg_dir = ann_dir + \"panoptic_val2017/\"\n",
    "val_ann_json = ann_dir + \"panoptic_val2017.json\"\n",
    "\n",
    "train_img_dir = val_img_dir \n",
    "train_seg_dir = val_seg_dir \n",
    "train_ann_json = val_ann_json "
   ]
  },
  {
   "cell_type": "code",
   "execution_count": 3,
   "metadata": {
    "ExecuteTime": {
     "end_time": "2018-10-19T20:39:56.269693Z",
     "start_time": "2018-10-19T20:39:55.840504Z"
    }
   },
   "outputs": [],
   "source": [
    "with open(val_ann_json,\"r\") as f:\n",
    "    val_ann = json.load(f)\n",
    "with open(train_ann_json,\"r\") as f:\n",
    "    train_ann = json.load(f)"
   ]
  },
  {
   "cell_type": "code",
   "execution_count": 4,
   "metadata": {
    "ExecuteTime": {
     "end_time": "2018-10-19T20:39:56.275030Z",
     "start_time": "2018-10-19T20:39:56.272306Z"
    }
   },
   "outputs": [],
   "source": [
    "config = base_config.Config()"
   ]
  },
  {
   "cell_type": "code",
   "execution_count": 5,
   "metadata": {
    "ExecuteTime": {
     "end_time": "2018-10-19T20:39:56.298739Z",
     "start_time": "2018-10-19T20:39:56.277245Z"
    }
   },
   "outputs": [],
   "source": [
    "train_loader = pan_loader.get_loader(train_img_dir, train_seg_dir, train_ann, config)\n",
    "val_loader = pan_loader.get_loader(val_img_dir, val_seg_dir, val_ann, config)"
   ]
  },
  {
   "cell_type": "code",
   "execution_count": 6,
   "metadata": {
    "ExecuteTime": {
     "end_time": "2018-10-19T20:40:03.158392Z",
     "start_time": "2018-10-19T20:39:56.301453Z"
    }
   },
   "outputs": [],
   "source": [
    "net = model.hgmodel()\n",
    "net = net.cuda()"
   ]
  },
  {
   "cell_type": "code",
   "execution_count": 7,
   "metadata": {
    "ExecuteTime": {
     "end_time": "2018-10-19T20:40:03.194207Z",
     "start_time": "2018-10-19T20:40:03.162650Z"
    }
   },
   "outputs": [
    {
     "name": "stdout",
     "output_type": "stream",
     "text": [
      "65293298 12326186\n",
      "[{'params': <generator object Module.parameters at 0x7f1cacccb780>, 'lr': 0.001, 'momentum': 0.9}]\n"
     ]
    }
   ],
   "source": [
    "def set_trainable(module,state):\n",
    "    for param in module.parameters():\n",
    "        param.requires_grad = state\n",
    "\n",
    "set_trainable(net,False)\n",
    "\n",
    "set_trainable(net.mb0,True)\n",
    "set_trainable(net.mb1,True)\n",
    "set_trainable(net.cb,True)\n",
    "\n",
    "set_trainable(net.iresnet0, False)\n",
    "set_trainable(net.iresnet1, False)\n",
    "\n",
    "# for name,child in net.iresnet0.named_children():\n",
    "#     if name[:-1] == \"layer\":\n",
    "#         [set_trainable(s.ignore_filters,True) for s in child[::2]]\n",
    "#         [set_trainable(s.copy_filters,True) for s in child[::2]]\n",
    "\n",
    "param_lr = []\n",
    "param_lr.append({'params': net.mb0.parameters(),'lr':1e-3,'momentum':0.9})\n",
    "param_lr.append({'params': net.mb1.parameters(),'lr':1e-3,'momentum':0.9})\n",
    "param_lr.append({'params': net.cb.parameters(),'lr':1e-3,'momentum':0.9})\n",
    "\n",
    "# for name,child in net.iresnet0.named_children():\n",
    "#     if name[:-1] == \"layer\":\n",
    "#         for s in child[::2]:\n",
    "#             lr = 0\n",
    "#             if int(name[-1]) > 0:\n",
    "#                 lr = 1e-3\n",
    "#             else:\n",
    "#                 lr = 0\n",
    "#             param_lr.append({'params':s.ignore_filters.parameters(),'lr':lr,'momentum':0.9})\n",
    "#             param_lr.append({'params':s.copy_filters.parameters(),'lr':1e-3,'momentum':0.9})\n",
    "\n",
    "param_lr = [{'params':net.parameters(),'lr':1e-3, 'momentum':0.9}]\n",
    "net_size = sum([i.numel() for i in net.parameters()])\n",
    "trainable_params = filter(lambda p: p.requires_grad, net.parameters())\n",
    "trainable_size = sum([i.numel() for i in trainable_params])\n",
    "print(net_size,trainable_size)\n",
    "print(param_lr)\n",
    "optimizer = optim.SGD(param_lr)\n",
    "# scheduler = optim.lr_scheduler.ReduceLROnPlateau(optimizer, mode='min', factor=1, patience=10, verbose=True, threshold=0.0001, threshold_mode='rel', cooldown=100, min_lr=1e-2, eps=1e-08)"
   ]
  },
  {
   "cell_type": "code",
   "execution_count": null,
   "metadata": {
    "ExecuteTime": {
     "start_time": "2018-10-19T20:05:14.751Z"
    }
   },
   "outputs": [
    {
     "name": "stdout",
     "output_type": "stream",
     "text": [
      "batch 0:\n",
      "torch.Size([12, 3, 448, 448]) torch.Size([12, 1, 448, 448])\n",
      "torch.Size([12, 66, 112, 112]) torch.Size([12, 132, 56, 56]) torch.Size([12, 264, 28, 28]) torch.Size([12, 528, 14, 14])\n",
      "torch.Size([12, 66, 112, 112]) torch.Size([12, 132, 56, 56]) torch.Size([12, 264, 28, 28]) torch.Size([12, 528, 14, 14])\n",
      "torch.Size([12, 1, 448, 448]) torch.Size([12, 1, 448, 448]) torch.Size([1, 12]) torch.Size([12, 121])\n",
      "batch 1:\n",
      "torch.Size([10, 3, 448, 448]) torch.Size([10, 1, 448, 448])\n",
      "torch.Size([10, 66, 112, 112]) torch.Size([10, 132, 56, 56]) torch.Size([10, 264, 28, 28]) torch.Size([10, 528, 14, 14])\n",
      "torch.Size([10, 66, 112, 112]) torch.Size([10, 132, 56, 56]) torch.Size([10, 264, 28, 28]) torch.Size([10, 528, 14, 14])\n",
      "torch.Size([10, 1, 448, 448]) torch.Size([10, 1, 448, 448]) torch.Size([1, 10]) torch.Size([10, 121])\n",
      "batch 2:\n",
      "torch.Size([4, 3, 448, 448]) torch.Size([4, 1, 448, 448])\n",
      "torch.Size([4, 66, 112, 112]) torch.Size([4, 132, 56, 56]) torch.Size([4, 264, 28, 28]) torch.Size([4, 528, 14, 14])\n",
      "torch.Size([4, 66, 112, 112]) torch.Size([4, 132, 56, 56]) torch.Size([4, 264, 28, 28]) torch.Size([4, 528, 14, 14])\n",
      "torch.Size([4, 1, 448, 448]) torch.Size([4, 1, 448, 448]) torch.Size([1, 4]) torch.Size([4, 121])\n",
      "batch 3:\n",
      "torch.Size([5, 3, 448, 448]) torch.Size([5, 1, 448, 448])\n",
      "torch.Size([5, 66, 112, 112]) torch.Size([5, 132, 56, 56]) torch.Size([5, 264, 28, 28]) torch.Size([5, 528, 14, 14])\n",
      "torch.Size([5, 66, 112, 112]) torch.Size([5, 132, 56, 56]) torch.Size([5, 264, 28, 28]) torch.Size([5, 528, 14, 14])\n",
      "torch.Size([5, 1, 448, 448]) torch.Size([5, 1, 448, 448]) torch.Size([1, 5]) torch.Size([5, 121])\n",
      "batch 4:\n",
      "torch.Size([5, 3, 448, 448]) torch.Size([5, 1, 448, 448])\n",
      "torch.Size([5, 66, 112, 112]) torch.Size([5, 132, 56, 56]) torch.Size([5, 264, 28, 28]) torch.Size([5, 528, 14, 14])\n",
      "torch.Size([5, 66, 112, 112]) torch.Size([5, 132, 56, 56]) torch.Size([5, 264, 28, 28]) torch.Size([5, 528, 14, 14])\n",
      "torch.Size([5, 1, 448, 448]) torch.Size([5, 1, 448, 448]) torch.Size([1, 5]) torch.Size([5, 121])\n",
      "batch 5:\n",
      "torch.Size([5, 3, 448, 448]) torch.Size([5, 1, 448, 448])\n",
      "torch.Size([5, 66, 112, 112]) torch.Size([5, 132, 56, 56]) torch.Size([5, 264, 28, 28]) torch.Size([5, 528, 14, 14])\n",
      "torch.Size([5, 66, 112, 112]) torch.Size([5, 132, 56, 56]) torch.Size([5, 264, 28, 28]) torch.Size([5, 528, 14, 14])\n",
      "torch.Size([5, 1, 448, 448]) torch.Size([5, 1, 448, 448]) torch.Size([1, 5]) torch.Size([5, 121])\n"
     ]
    }
   ],
   "source": [
    "ckpt = utils.Checkpoint(iters_per_epoch=2, model_dir=\"./models/\", model_name=\"first\")\n",
    "\n",
    "for i, data in enumerate(train_loader,0):\n",
    "    print(\"batch %d:\"%i)\n",
    "    \n",
    "    optimizer.zero_grad()\n",
    "    images, impulses, instance_masks, cat_ids = utils.cudify_data(data)\n",
    "    del(data)\n",
    "    outs = net([images,impulses])\n",
    "    del(images, impulses)\n",
    "#     loss = outs[0].mean()\n",
    "    loss = L.loss_criterion1(outs, [instance_masks, cat_ids])\n",
    "    del(instance_masks, cat_ids, outs)\n",
    "#     ckpt.update(loss.data, net)\n",
    "    loss.backward()\n",
    "    del(loss)\n",
    "    optimizer.step()"
   ]
  },
  {
   "cell_type": "code",
   "execution_count": null,
   "metadata": {},
   "outputs": [],
   "source": []
  }
 ],
 "metadata": {
  "kernelspec": {
   "display_name": "Python 3",
   "language": "python",
   "name": "python3"
  },
  "language_info": {
   "codemirror_mode": {
    "name": "ipython",
    "version": 3
   },
   "file_extension": ".py",
   "mimetype": "text/x-python",
   "name": "python",
   "nbconvert_exporter": "python",
   "pygments_lexer": "ipython3",
   "version": "3.6.5"
  }
 },
 "nbformat": 4,
 "nbformat_minor": 2
}

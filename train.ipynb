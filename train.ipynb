{
 "cells": [
  {
   "cell_type": "code",
   "execution_count": 1,
   "metadata": {
    "ExecuteTime": {
     "end_time": "2018-11-01T00:46:53.707900Z",
     "start_time": "2018-11-01T00:46:53.187842Z"
    }
   },
   "outputs": [],
   "source": [
    "import importlib\n",
    "\n",
    "import model\n",
    "import pan_loader\n",
    "import base_config\n",
    "import loss_functions as L\n",
    "\n",
    "import utils\n",
    "\n",
    "import torch\n",
    "import torch.nn as nn\n",
    "import torch.optim as optim\n",
    "\n",
    "import os\n",
    "import time\n",
    "os.environ[\"CUDA_DEVICE_ORDER\"] = \"PCI_BUS_ID\"\n",
    "os.environ[\"CUDA_VISIBLE_DEVICES\"] = \"1\"\n"
   ]
  },
  {
   "cell_type": "code",
   "execution_count": 2,
   "metadata": {
    "ExecuteTime": {
     "end_time": "2018-11-01T00:46:53.714216Z",
     "start_time": "2018-11-01T00:46:53.710135Z"
    }
   },
   "outputs": [],
   "source": [
    "data_dir = \"/home/aravind/dataset/\"\n",
    "ann_dir = data_dir + \"annotations/panoptic/\"\n",
    "\n",
    "train_img_dir = data_dir + \"train2017/\"\n",
    "train_seg_dir = ann_dir + \"panoptic_train2017/\"\n",
    "train_ann_json = ann_dir + \"panoptic_train2017.json\"\n",
    "\n",
    "val_img_dir = data_dir + \"val2017/\"\n",
    "val_seg_dir = ann_dir + \"panoptic_val2017/\"\n",
    "val_ann_json = ann_dir + \"panoptic_val2017.json\"\n",
    "\n",
    "# train_img_dir = val_img_dir \n",
    "# train_seg_dir = val_seg_dir \n",
    "# train_ann_json = val_ann_json "
   ]
  },
  {
   "cell_type": "code",
   "execution_count": 3,
   "metadata": {
    "ExecuteTime": {
     "end_time": "2018-11-01T00:47:00.337783Z",
     "start_time": "2018-11-01T00:46:53.716359Z"
    }
   },
   "outputs": [],
   "source": [
    "with open(val_ann_json,\"r\") as f:\n",
    "    val_ann = json.load(f)\n",
    "with open(train_ann_json,\"r\") as f:\n",
    "    train_ann = json.load(f)"
   ]
  },
  {
   "cell_type": "code",
   "execution_count": 4,
   "metadata": {
    "ExecuteTime": {
     "end_time": "2018-11-01T00:47:00.343414Z",
     "start_time": "2018-11-01T00:47:00.340402Z"
    }
   },
   "outputs": [],
   "source": [
    "config = base_config.Config()"
   ]
  },
  {
   "cell_type": "code",
   "execution_count": 5,
   "metadata": {
    "ExecuteTime": {
     "end_time": "2018-11-01T00:47:00.620748Z",
     "start_time": "2018-11-01T00:47:00.345605Z"
    }
   },
   "outputs": [],
   "source": [
    "train_loader = pan_loader.get_loader(train_img_dir, train_seg_dir, train_ann, config)\n",
    "val_loader = pan_loader.get_loader(val_img_dir, val_seg_dir, val_ann, config)"
   ]
  },
  {
   "cell_type": "code",
   "execution_count": 6,
   "metadata": {
    "ExecuteTime": {
     "end_time": "2018-11-01T00:47:02.950813Z",
     "start_time": "2018-11-01T00:47:00.623023Z"
    }
   },
   "outputs": [],
   "source": [
    "net = model.hgmodel()\n",
    "# model_dir=\"models/\"\n",
    "# model_name=\"first_0.pt\"\n",
    "# pretrained_dict = torch.load(model_dir+model_name)\n",
    "# net_dict = net.state_dict()\n",
    "\n",
    "# pretrained_dict = {k: v for k, v in pretrained_dict.items() if k in net_dict}\n",
    "# net_dict.update(pretrained_dict) \n",
    "# net.load_state_dict(net_dict)\n"
   ]
  },
  {
   "cell_type": "code",
   "execution_count": 7,
   "metadata": {
    "ExecuteTime": {
     "end_time": "2018-11-01T00:47:02.976847Z",
     "start_time": "2018-11-01T00:47:02.952496Z"
    }
   },
   "outputs": [
    {
     "name": "stdout",
     "output_type": "stream",
     "text": [
      "37761792 11222096\n"
     ]
    }
   ],
   "source": [
    "def set_trainable(module,state):\n",
    "    for param in module.parameters():\n",
    "        param.requires_grad = state\n",
    "\n",
    "set_trainable(net,False)\n",
    "\n",
    "set_trainable(net.mb0,True)\n",
    "# set_trainable(net.mb1,True)\n",
    "set_trainable(net.cb,True)\n",
    "\n",
    "set_trainable(net.iresnet0, False)\n",
    "# set_trainable(net.iresnet1, False)\n",
    "\n",
    "for name,module in net.iresnet0.named_modules():\n",
    "    if 'copy_bn' in name:\n",
    "        set_trainable(module, False)\n",
    "    elif 'copy_conv' in name:\n",
    "        set_trainable(module, False)\n",
    "    elif 'wing' in name:\n",
    "        set_trainable(module, True)\n",
    "    else:\n",
    "        set_trainable(module, False)\n",
    "        if isinstance(module, nn.BatchNorm2d):\n",
    "            module.eval()\n",
    "        \n",
    "param_lr = []\n",
    "param_lr.append({'params': net.mb0.parameters(),'lr':1e-4,'momentum':0.9})\n",
    "# param_lr.append({'params': net.mb1.parameters(),'lr':1e-4,'momentum':0.9})\n",
    "param_lr.append({'params': net.cb.parameters(),'lr':1e-4,'momentum':0.9})\n",
    "\n",
    "# for name,module in net.iresnet0.named_modules():\n",
    "#     if 'copy_bn' in name:\n",
    "#         param_lr.append({'params':module.parameters(),'lr':1e-4,'momentum':0.9})\n",
    "#     elif 'copy_conv' in name:\n",
    "#         param_lr.append({'params':module.parameters(),'lr':1e-4,'momentum':0.9})\n",
    "\n",
    "for name,child in net.iresnet0.named_children():\n",
    "    if 'wing' in name:\n",
    "        param_lr.append({'params':child.parameters(),'lr':1e-4,'momentum':0.9})\n",
    "\n",
    "# param_lr = [{'params':net.parameters(),'lr':1e-4, 'momentum':0.9}]\n",
    "net_size = sum([i.numel() for i in net.parameters()])\n",
    "trainable_params = filter(lambda p: p.requires_grad, net.parameters())\n",
    "trainable_size = sum([i.numel() for i in trainable_params])\n",
    "print(net_size,trainable_size)\n",
    "optimizer = optim.SGD(param_lr, weight_decay=1e-4)"
   ]
  },
  {
   "cell_type": "code",
   "execution_count": 8,
   "metadata": {
    "ExecuteTime": {
     "end_time": "2018-11-01T00:47:05.692038Z",
     "start_time": "2018-11-01T00:47:02.978682Z"
    }
   },
   "outputs": [],
   "source": [
    "# net = nn.DataParallel(net, device_ids=[0,1])\n",
    "net = net.cuda()"
   ]
  },
  {
   "cell_type": "code",
   "execution_count": null,
   "metadata": {
    "ExecuteTime": {
     "start_time": "2018-11-01T00:11:47.947Z"
    },
    "scrolled": true
   },
   "outputs": [
    {
     "name": "stdout",
     "output_type": "stream",
     "text": [
      "Step: 20\t0.74008\n",
      "Step: 40\t0.62779\n",
      "Step: 60\t0.63501\n",
      "Step: 80\t0.62628\n",
      "Step: 100\t0.62956\n",
      "Step: 120\t0.62726\n",
      "Step: 140\t0.62230\n",
      "Step: 160\t0.62394\n",
      "Step: 180\t0.63522\n",
      "Step: 200\t0.61174\n",
      "Step: 220\t0.62770\n",
      "Step: 240\t0.62537\n",
      "Step: 260\t0.63358\n",
      "Step: 280\t0.62213\n",
      "Step: 300\t0.63597\n",
      "Step: 320\t0.62760\n",
      "Step: 340\t0.62963\n",
      "Step: 360\t0.63404\n",
      "Step: 380\t0.63106\n",
      "Step: 400\t0.61842\n",
      "Step: 420\t0.62727\n",
      "Step: 440\t0.63402\n",
      "Step: 460\t0.63308\n",
      "Step: 480\t0.64058\n",
      "Step: 500\t0.61893\n",
      "Step: 520\t0.63143\n",
      "Step: 540\t0.61802\n",
      "Step: 560\t0.61967\n",
      "Step: 580\t0.61689\n",
      "Step: 600\t0.62451\n",
      "Step: 620\t0.63328\n",
      "Step: 640\t0.62647\n",
      "Step: 660\t0.62049\n",
      "Step: 680\t0.62926\n",
      "Step: 700\t0.61909\n",
      "Step: 720\t0.64378\n",
      "Step: 740\t0.62772\n",
      "Step: 760\t0.64284\n",
      "Step: 780\t0.62606\n",
      "Step: 800\t0.60594\n",
      "Step: 820\t0.62421\n",
      "Step: 840\t0.62898\n",
      "Step: 860\t0.62507\n",
      "Step: 880\t0.62217\n",
      "Step: 900\t0.64682\n",
      "Step: 920\t0.63329\n",
      "Step: 940\t0.62759\n",
      "Step: 960\t0.62723\n",
      "Step: 980\t0.62593\n",
      "Step: 1000\t0.62578\n",
      "Step: 1020\t0.62822\n",
      "Step: 1040\t0.62307\n",
      "Step: 1060\t0.63017\n",
      "Step: 1080\t0.61533\n",
      "Step: 1100\t0.63054\n",
      "Step: 1120\t0.63795\n",
      "Step: 1140\t0.62820\n",
      "Step: 1160\t0.62743\n",
      "Step: 1180\t0.63405\n",
      "Step: 1200\t0.61815\n",
      "Step: 1220\t0.63262\n",
      "Step: 1240\t0.60560\n",
      "Step: 1260\t0.63688\n",
      "Step: 1280\t0.61881\n",
      "Step: 1300\t0.62996\n",
      "Step: 1320\t0.60814\n",
      "Step: 1340\t0.63833\n",
      "Step: 1360\t0.62319\n",
      "Step: 1380\t0.63256\n",
      "Step: 1400\t0.61419\n",
      "Step: 1420\t0.62114\n",
      "Step: 1440\t0.63021\n",
      "Step: 1460\t0.63797\n",
      "Step: 1480\t0.60922\n",
      "Step: 1500\t0.62368\n",
      "Step: 1520\t0.63596\n",
      "Step: 1540\t0.61342\n",
      "Step: 1560\t0.64407\n",
      "Step: 1580\t0.62333\n",
      "Step: 1600\t0.62464\n",
      "Step: 1620\t0.62908\n",
      "Step: 1640\t0.62056\n",
      "Step: 1660\t0.63788\n",
      "Step: 1680\t0.63233\n",
      "Step: 1700\t0.64125\n",
      "Step: 1720\t0.61069\n",
      "Step: 1740\t0.61808\n",
      "Step: 1760\t0.64826\n",
      "Step: 1780\t0.62945\n",
      "Step: 1800\t0.62494\n",
      "Step: 1820\t0.63027\n",
      "Step: 1840\t0.62587\n",
      "Step: 1860\t0.62067\n",
      "Step: 1880\t0.61034\n",
      "Step: 1900\t0.59373\n",
      "Step: 1920\t0.63224\n",
      "Step: 1940\t0.62755\n",
      "Step: 1960\t0.63906\n",
      "Step: 1980\t0.62771\n",
      "Step: 2000\t0.61479\n",
      "Step: 2020\t0.63675\n",
      "Step: 2040\t0.63737\n",
      "Step: 2060\t0.62828\n",
      "Step: 2080\t0.62704\n",
      "Step: 2100\t0.63540\n",
      "Step: 2120\t0.62713\n",
      "Step: 2140\t0.60756\n",
      "Step: 2160\t0.63678\n",
      "Step: 2180\t0.62437\n",
      "Step: 2200\t0.61139\n",
      "Step: 2220\t0.61544\n",
      "Step: 2240\t0.62779\n",
      "Step: 2260\t0.63494\n",
      "Step: 2280\t0.64090\n",
      "Step: 2300\t0.61065\n",
      "Step: 2320\t0.62454\n",
      "Step: 2340\t0.62017\n",
      "Step: 2360\t0.64355\n",
      "Step: 2380\t0.61899\n",
      "Step: 2400\t0.63225\n",
      "Step: 2420\t0.62335\n",
      "Step: 2440\t0.61922\n",
      "Step: 2460\t0.61580\n",
      "Step: 2480\t0.60881\n",
      "Step: 2500\t0.62099\n",
      "Step: 2520\t0.62223\n",
      "Step: 2540\t0.61499\n",
      "Step: 2560\t0.63901\n",
      "Step: 2580\t0.61533\n",
      "Step: 2600\t0.59791\n",
      "Step: 2620\t0.61745\n",
      "Step: 2640\t0.64389\n",
      "Step: 2660\t0.62771\n",
      "Step: 2680\t0.61624\n",
      "Step: 2700\t0.62075\n",
      "Step: 2720\t0.61944\n",
      "Step: 2740\t0.61960\n",
      "Step: 2760\t0.64441\n",
      "Step: 2780\t0.60905\n",
      "Step: 2800\t0.63434\n",
      "Step: 2820\t0.61645\n",
      "Step: 2840\t0.62875\n",
      "Step: 2860\t0.63812\n",
      "Step: 2880\t0.63099\n",
      "Step: 2900\t0.61921\n",
      "Step: 2920\t0.62577\n",
      "Step: 2940\t0.62798\n",
      "Step: 2960\t0.62301\n",
      "Step: 2980\t0.60939\n",
      "Step: 3000\t0.62974\n",
      "Step: 3020\t0.63086\n",
      "Step: 3040\t0.62604\n"
     ]
    }
   ],
   "source": [
    "ckpt = utils.Checkpoint(iters_per_epoch=20, model_dir=\"./models/\", model_name=\"second\")\n",
    "# torch.set_printoptions(float('nan'))\n",
    "for i, data in enumerate(train_loader,0):\n",
    "    optimizer.zero_grad()\n",
    "    \n",
    "    images, impulses, instance_masks, cat_ids = utils.cudify_data(data)\n",
    "    del(data)\n",
    "    outs = net([images,instance_masks])\n",
    "#     print(outs[0])\n",
    "    del(images, impulses)\n",
    "    loss = L.loss_criterion(outs, [instance_masks, cat_ids])\n",
    "    del(instance_masks, cat_ids, outs)\n",
    "    ckpt.update(loss.data, net)\n",
    "    loss.backward()\n",
    "    del(loss)\n",
    "    optimizer.step()"
   ]
  },
  {
   "cell_type": "code",
   "execution_count": null,
   "metadata": {},
   "outputs": [],
   "source": []
  },
  {
   "cell_type": "code",
   "execution_count": null,
   "metadata": {},
   "outputs": [],
   "source": []
  },
  {
   "cell_type": "code",
   "execution_count": null,
   "metadata": {},
   "outputs": [],
   "source": []
  }
 ],
 "metadata": {
  "kernelspec": {
   "display_name": "Python 3",
   "language": "python",
   "name": "python3"
  },
  "language_info": {
   "codemirror_mode": {
    "name": "ipython",
    "version": 3
   },
   "file_extension": ".py",
   "mimetype": "text/x-python",
   "name": "python",
   "nbconvert_exporter": "python",
   "pygments_lexer": "ipython3",
   "version": "3.6.5"
  }
 },
 "nbformat": 4,
 "nbformat_minor": 2
}

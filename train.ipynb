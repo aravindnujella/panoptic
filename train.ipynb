{
 "cells": [
  {
   "cell_type": "code",
   "execution_count": 1,
   "metadata": {
    "ExecuteTime": {
     "end_time": "2018-10-22T20:08:16.382789Z",
     "start_time": "2018-10-22T20:08:15.864614Z"
    }
   },
   "outputs": [],
   "source": [
    "import importlib\n",
    "\n",
    "import model\n",
    "import pan_loader\n",
    "import base_config\n",
    "import loss_functions as L\n",
    "\n",
    "import utils\n",
    "\n",
    "import torch\n",
    "import torch.nn as nn\n",
    "import torch.optim as optim\n",
    "\n",
    "import os\n",
    "import time\n",
    "os.environ[\"CUDA_DEVICE_ORDER\"] = \"PCI_BUS_ID\"\n",
    "os.environ[\"CUDA_VISIBLE_DEVICES\"] = \"0,1\"\n"
   ]
  },
  {
   "cell_type": "code",
   "execution_count": 2,
   "metadata": {
    "ExecuteTime": {
     "end_time": "2018-10-22T20:08:16.388802Z",
     "start_time": "2018-10-22T20:08:16.385074Z"
    }
   },
   "outputs": [],
   "source": [
    "data_dir = \"/home/aravind/dataset/\"\n",
    "ann_dir = data_dir + \"annotations/panoptic/\"\n",
    "\n",
    "train_img_dir = data_dir + \"train2017/\"\n",
    "train_seg_dir = ann_dir + \"panoptic_train2017/\"\n",
    "train_ann_json = ann_dir + \"panoptic_train2017.json\"\n",
    "\n",
    "val_img_dir = data_dir + \"val2017/\"\n",
    "val_seg_dir = ann_dir + \"panoptic_val2017/\"\n",
    "val_ann_json = ann_dir + \"panoptic_val2017.json\"\n",
    "\n",
    "# train_img_dir = val_img_dir \n",
    "# train_seg_dir = val_seg_dir \n",
    "# train_ann_json = val_ann_json "
   ]
  },
  {
   "cell_type": "code",
   "execution_count": 3,
   "metadata": {
    "ExecuteTime": {
     "end_time": "2018-10-22T20:08:22.836213Z",
     "start_time": "2018-10-22T20:08:16.390689Z"
    }
   },
   "outputs": [],
   "source": [
    "with open(val_ann_json,\"r\") as f:\n",
    "    val_ann = json.load(f)\n",
    "with open(train_ann_json,\"r\") as f:\n",
    "    train_ann = json.load(f)"
   ]
  },
  {
   "cell_type": "code",
   "execution_count": 4,
   "metadata": {
    "ExecuteTime": {
     "end_time": "2018-10-22T20:08:22.841596Z",
     "start_time": "2018-10-22T20:08:22.838561Z"
    }
   },
   "outputs": [],
   "source": [
    "config = base_config.Config()"
   ]
  },
  {
   "cell_type": "code",
   "execution_count": 5,
   "metadata": {
    "ExecuteTime": {
     "end_time": "2018-10-22T20:08:23.133248Z",
     "start_time": "2018-10-22T20:08:22.843928Z"
    }
   },
   "outputs": [],
   "source": [
    "train_loader = pan_loader.get_loader(train_img_dir, train_seg_dir, train_ann, config)\n",
    "val_loader = pan_loader.get_loader(val_img_dir, val_seg_dir, val_ann, config)"
   ]
  },
  {
   "cell_type": "code",
   "execution_count": 6,
   "metadata": {
    "ExecuteTime": {
     "end_time": "2018-10-22T20:08:28.702594Z",
     "start_time": "2018-10-22T20:08:23.135901Z"
    }
   },
   "outputs": [],
   "source": [
    "net = model.hgmodel()"
   ]
  },
  {
   "cell_type": "code",
   "execution_count": 7,
   "metadata": {
    "ExecuteTime": {
     "end_time": "2018-10-22T20:08:28.742398Z",
     "start_time": "2018-10-22T20:08:28.705123Z"
    }
   },
   "outputs": [
    {
     "name": "stdout",
     "output_type": "stream",
     "text": [
      "73263278 24016282\n",
      "[{'params': <generator object Module.parameters at 0x7f3078fd4bf8>, 'lr': 0.001, 'momentum': 0.9}]\n"
     ]
    }
   ],
   "source": [
    "def set_trainable(module,state):\n",
    "    for param in module.parameters():\n",
    "        param.requires_grad = state\n",
    "\n",
    "set_trainable(net,False)\n",
    "\n",
    "set_trainable(net.mb0,True)\n",
    "set_trainable(net.mb1,True)\n",
    "set_trainable(net.cb,True)\n",
    "\n",
    "set_trainable(net.iresnet0, False)\n",
    "set_trainable(net.iresnet1, False)\n",
    "\n",
    "for name,module in net.iresnet0.named_modules():\n",
    "    if 'copy' in name:\n",
    "        set_trainable(module, True)\n",
    "        \n",
    "param_lr = []\n",
    "param_lr.append({'params': net.mb0.parameters(),'lr':1e-3,'momentum':0.9})\n",
    "param_lr.append({'params': net.mb1.parameters(),'lr':1e-3,'momentum':0.9})\n",
    "param_lr.append({'params': net.cb.parameters(),'lr':1e-3,'momentum':0.9})\n",
    "\n",
    "for name,module in net.iresnet0.named_modules():\n",
    "    if 'copy' in name:\n",
    "        param_lr.append({'params':module.parameters(),'lr':1e-3,'momentum':0.9})\n",
    "\n",
    "param_lr = [{'params':net.parameters(),'lr':1e-3, 'momentum':0.9}]\n",
    "net_size = sum([i.numel() for i in net.parameters()])\n",
    "trainable_params = filter(lambda p: p.requires_grad, net.parameters())\n",
    "trainable_size = sum([i.numel() for i in trainable_params])\n",
    "print(net_size,trainable_size)\n",
    "print(param_lr)\n",
    "optimizer = optim.SGD(param_lr)\n",
    "# scheduler = optim.lr_scheduler.ReduceLROnPlateau(optimizer, mode='min', factor=1, patience=10, verbose=True, threshold=0.0001, threshold_mode='rel', cooldown=100, min_lr=1e-2, eps=1e-08)"
   ]
  },
  {
   "cell_type": "code",
   "execution_count": 8,
   "metadata": {
    "ExecuteTime": {
     "end_time": "2018-10-22T20:08:31.486671Z",
     "start_time": "2018-10-22T20:08:28.744293Z"
    }
   },
   "outputs": [],
   "source": [
    "# net = nn.DataParallel(net, device_ids=[0,1])\n",
    "net = net.cuda()"
   ]
  },
  {
   "cell_type": "code",
   "execution_count": null,
   "metadata": {
    "ExecuteTime": {
     "start_time": "2018-10-22T19:33:29.263Z"
    },
    "scrolled": false
   },
   "outputs": [
    {
     "name": "stdout",
     "output_type": "stream",
     "text": [
      "tensor(0.8180, device='cuda:0', grad_fn=<MeanBackward1>) tensor(4.9139, device='cuda:0', grad_fn=<MeanBackward1>)\n",
      "tensor(0.8698, device='cuda:0', grad_fn=<MeanBackward1>) tensor(4.9293, device='cuda:0', grad_fn=<MeanBackward1>)\n",
      "tensor(0.7990, device='cuda:0', grad_fn=<MeanBackward1>) tensor(4.9673, device='cuda:0', grad_fn=<MeanBackward1>)\n",
      "tensor(0.9237, device='cuda:0', grad_fn=<MeanBackward1>) tensor(4.6134, device='cuda:0', grad_fn=<MeanBackward1>)\n",
      "tensor(0.9245, device='cuda:0', grad_fn=<MeanBackward1>) tensor(4.5768, device='cuda:0', grad_fn=<MeanBackward1>)\n",
      "tensor(0.9332, device='cuda:0', grad_fn=<MeanBackward1>) tensor(4.7994, device='cuda:0', grad_fn=<MeanBackward1>)\n",
      "tensor(0.9127, device='cuda:0', grad_fn=<MeanBackward1>) tensor(4.6911, device='cuda:0', grad_fn=<MeanBackward1>)\n",
      "tensor(0.9354, device='cuda:0', grad_fn=<MeanBackward1>) tensor(4.6066, device='cuda:0', grad_fn=<MeanBackward1>)\n",
      "tensor(0.9289, device='cuda:0', grad_fn=<MeanBackward1>) tensor(3.7905, device='cuda:0', grad_fn=<MeanBackward1>)\n",
      "tensor(0.9167, device='cuda:0', grad_fn=<MeanBackward1>) tensor(3.8498, device='cuda:0', grad_fn=<MeanBackward1>)\n",
      "tensor(0.9177, device='cuda:0', grad_fn=<MeanBackward1>) tensor(3.6780, device='cuda:0', grad_fn=<MeanBackward1>)\n",
      "tensor(0.9219, device='cuda:0', grad_fn=<MeanBackward1>) tensor(4.1325, device='cuda:0', grad_fn=<MeanBackward1>)\n",
      "tensor(0.9099, device='cuda:0', grad_fn=<MeanBackward1>) tensor(4.3134, device='cuda:0', grad_fn=<MeanBackward1>)\n",
      "tensor(0.8085, device='cuda:0', grad_fn=<MeanBackward1>) tensor(3.8650, device='cuda:0', grad_fn=<MeanBackward1>)\n",
      "tensor(0.9389, device='cuda:0', grad_fn=<MeanBackward1>) tensor(4.4990, device='cuda:0', grad_fn=<MeanBackward1>)\n",
      "tensor(0.8907, device='cuda:0', grad_fn=<MeanBackward1>) tensor(4.5205, device='cuda:0', grad_fn=<MeanBackward1>)\n",
      "tensor(0.9110, device='cuda:0', grad_fn=<MeanBackward1>) tensor(5.0631, device='cuda:0', grad_fn=<MeanBackward1>)\n",
      "tensor(0.8725, device='cuda:0', grad_fn=<MeanBackward1>) tensor(4.7835, device='cuda:0', grad_fn=<MeanBackward1>)\n",
      "tensor(0.8266, device='cuda:0', grad_fn=<MeanBackward1>) tensor(4.8853, device='cuda:0', grad_fn=<MeanBackward1>)\n",
      "tensor(0.8380, device='cuda:0', grad_fn=<MeanBackward1>) tensor(3.5413, device='cuda:0', grad_fn=<MeanBackward1>)\n",
      "tensor(0.8424, device='cuda:0', grad_fn=<MeanBackward1>) tensor(4.8676, device='cuda:0', grad_fn=<MeanBackward1>)\n",
      "tensor(0.9107, device='cuda:0', grad_fn=<MeanBackward1>) tensor(4.1522, device='cuda:0', grad_fn=<MeanBackward1>)\n",
      "tensor(0.8920, device='cuda:0', grad_fn=<MeanBackward1>) tensor(5.4157, device='cuda:0', grad_fn=<MeanBackward1>)\n",
      "tensor(0.9053, device='cuda:0', grad_fn=<MeanBackward1>) tensor(5.1291, device='cuda:0', grad_fn=<MeanBackward1>)\n",
      "tensor(0.7266, device='cuda:0', grad_fn=<MeanBackward1>) tensor(5.1637, device='cuda:0', grad_fn=<MeanBackward1>)\n",
      "tensor(0.7910, device='cuda:0', grad_fn=<MeanBackward1>) tensor(4.9748, device='cuda:0', grad_fn=<MeanBackward1>)\n",
      "tensor(0.9505, device='cuda:0', grad_fn=<MeanBackward1>) tensor(4.5795, device='cuda:0', grad_fn=<MeanBackward1>)\n",
      "tensor(0.8993, device='cuda:0', grad_fn=<MeanBackward1>) tensor(4.9460, device='cuda:0', grad_fn=<MeanBackward1>)\n",
      "tensor(0.9167, device='cuda:0', grad_fn=<MeanBackward1>) tensor(4.9610, device='cuda:0', grad_fn=<MeanBackward1>)\n",
      "tensor(0.8249, device='cuda:0', grad_fn=<MeanBackward1>) tensor(4.6414, device='cuda:0', grad_fn=<MeanBackward1>)\n",
      "tensor(0.9141, device='cuda:0', grad_fn=<MeanBackward1>) tensor(4.3435, device='cuda:0', grad_fn=<MeanBackward1>)\n",
      "tensor(0.9417, device='cuda:0', grad_fn=<MeanBackward1>) tensor(4.5904, device='cuda:0', grad_fn=<MeanBackward1>)\n",
      "tensor(0.9221, device='cuda:0', grad_fn=<MeanBackward1>) tensor(4.7298, device='cuda:0', grad_fn=<MeanBackward1>)\n",
      "tensor(0.9302, device='cuda:0', grad_fn=<MeanBackward1>) tensor(4.2344, device='cuda:0', grad_fn=<MeanBackward1>)\n",
      "tensor(0.9089, device='cuda:0', grad_fn=<MeanBackward1>) tensor(4.7129, device='cuda:0', grad_fn=<MeanBackward1>)\n",
      "tensor(0.9229, device='cuda:0', grad_fn=<MeanBackward1>) tensor(4.8373, device='cuda:0', grad_fn=<MeanBackward1>)\n",
      "tensor(0.9093, device='cuda:0', grad_fn=<MeanBackward1>) tensor(3.9065, device='cuda:0', grad_fn=<MeanBackward1>)\n",
      "tensor(0.9284, device='cuda:0', grad_fn=<MeanBackward1>) tensor(4.4705, device='cuda:0', grad_fn=<MeanBackward1>)\n",
      "tensor(0.7852, device='cuda:0', grad_fn=<MeanBackward1>) tensor(4.8502, device='cuda:0', grad_fn=<MeanBackward1>)\n",
      "tensor(0.9105, device='cuda:0', grad_fn=<MeanBackward1>) tensor(4.2228, device='cuda:0', grad_fn=<MeanBackward1>)\n",
      "tensor(0.8606, device='cuda:0', grad_fn=<MeanBackward1>) tensor(4.4720, device='cuda:0', grad_fn=<MeanBackward1>)\n",
      "tensor(0.9305, device='cuda:0', grad_fn=<MeanBackward1>) tensor(4.7333, device='cuda:0', grad_fn=<MeanBackward1>)\n"
     ]
    }
   ],
   "source": [
    "ckpt = utils.Checkpoint(iters_per_epoch=60, model_dir=\"./models/\", model_name=\"first\")\n",
    "\n",
    "for i, data in enumerate(train_loader,0):\n",
    "#     print(\"batch %d:\"%i)\n",
    "    optimizer.zero_grad()\n",
    "    \n",
    "    images, impulses, instance_masks, cat_ids = utils.cudify_data(data)\n",
    "    del(data)\n",
    "    outs = net([images,impulses])\n",
    "    del(images, impulses)\n",
    "    loss = L.loss_criterion1(outs, [instance_masks, cat_ids])\n",
    "    del(instance_masks, cat_ids, outs)\n",
    "    ckpt.update(loss.data, net)\n",
    "    loss.backward()\n",
    "    del(loss)\n",
    "    optimizer.step()"
   ]
  },
  {
   "cell_type": "code",
   "execution_count": null,
   "metadata": {},
   "outputs": [],
   "source": []
  },
  {
   "cell_type": "code",
   "execution_count": null,
   "metadata": {},
   "outputs": [],
   "source": []
  }
 ],
 "metadata": {
  "kernelspec": {
   "display_name": "Python 3",
   "language": "python",
   "name": "python3"
  },
  "language_info": {
   "codemirror_mode": {
    "name": "ipython",
    "version": 3
   },
   "file_extension": ".py",
   "mimetype": "text/x-python",
   "name": "python",
   "nbconvert_exporter": "python",
   "pygments_lexer": "ipython3",
   "version": "3.6.5"
  }
 },
 "nbformat": 4,
 "nbformat_minor": 2
}

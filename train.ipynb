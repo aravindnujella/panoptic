{
 "cells": [
  {
   "cell_type": "code",
   "execution_count": 1,
   "metadata": {
    "ExecuteTime": {
     "end_time": "2018-11-03T00:26:16.814789Z",
     "start_time": "2018-11-03T00:26:16.293141Z"
    }
   },
   "outputs": [],
   "source": [
    "import importlib\n",
    "\n",
    "import model\n",
    "import pan_loader\n",
    "import base_config\n",
    "import loss_functions as L\n",
    "\n",
    "import utils\n",
    "\n",
    "import torch\n",
    "import torch.nn as nn\n",
    "import torch.optim as optim\n",
    "\n",
    "import os\n",
    "import time\n",
    "os.environ[\"CUDA_DEVICE_ORDER\"] = \"PCI_BUS_ID\"\n",
    "os.environ[\"CUDA_VISIBLE_DEVICES\"] = \"1\"\n"
   ]
  },
  {
   "cell_type": "code",
   "execution_count": 2,
   "metadata": {
    "ExecuteTime": {
     "end_time": "2018-11-03T00:26:16.819909Z",
     "start_time": "2018-11-03T00:26:16.816626Z"
    }
   },
   "outputs": [],
   "source": [
    "data_dir = \"/home/aravind/dataset/\"\n",
    "ann_dir = data_dir + \"annotations/panoptic/\"\n",
    "\n",
    "train_img_dir = data_dir + \"train2017/\"\n",
    "train_seg_dir = ann_dir + \"panoptic_train2017/\"\n",
    "train_ann_json = ann_dir + \"panoptic_train2017.json\"\n",
    "\n",
    "val_img_dir = data_dir + \"val2017/\"\n",
    "val_seg_dir = ann_dir + \"panoptic_val2017/\"\n",
    "val_ann_json = ann_dir + \"panoptic_val2017.json\"\n",
    "\n",
    "# train_img_dir = val_img_dir \n",
    "# train_seg_dir = val_seg_dir \n",
    "# train_ann_json = val_ann_json "
   ]
  },
  {
   "cell_type": "code",
   "execution_count": 3,
   "metadata": {
    "ExecuteTime": {
     "end_time": "2018-11-03T00:26:23.467725Z",
     "start_time": "2018-11-03T00:26:16.821416Z"
    }
   },
   "outputs": [],
   "source": [
    "with open(val_ann_json,\"r\") as f:\n",
    "    val_ann = json.load(f)\n",
    "with open(train_ann_json,\"r\") as f:\n",
    "    train_ann = json.load(f)"
   ]
  },
  {
   "cell_type": "code",
   "execution_count": 4,
   "metadata": {
    "ExecuteTime": {
     "end_time": "2018-11-03T00:26:23.472650Z",
     "start_time": "2018-11-03T00:26:23.469700Z"
    }
   },
   "outputs": [],
   "source": [
    "config = base_config.Config()"
   ]
  },
  {
   "cell_type": "code",
   "execution_count": 5,
   "metadata": {
    "ExecuteTime": {
     "end_time": "2018-11-03T00:26:23.758999Z",
     "start_time": "2018-11-03T00:26:23.474626Z"
    }
   },
   "outputs": [],
   "source": [
    "train_loader = pan_loader.get_loader(train_img_dir, train_seg_dir, train_ann, config)\n",
    "val_loader = pan_loader.get_loader(val_img_dir, val_seg_dir, val_ann, config)"
   ]
  },
  {
   "cell_type": "code",
   "execution_count": 6,
   "metadata": {
    "ExecuteTime": {
     "end_time": "2018-11-03T00:26:26.089078Z",
     "start_time": "2018-11-03T00:26:23.760855Z"
    }
   },
   "outputs": [],
   "source": [
    "net = model.hgmodel()\n",
    "# model_dir=\"models/\"\n",
    "# model_name=\"first_0.pt\"\n",
    "# pretrained_dict = torch.load(model_dir+model_name)\n",
    "# net_dict = net.state_dict()\n",
    "\n",
    "# pretrained_dict = {k: v for k, v in pretrained_dict.items() if k in net_dict}\n",
    "# net_dict.update(pretrained_dict) \n",
    "# net.load_state_dict(net_dict)\n"
   ]
  },
  {
   "cell_type": "code",
   "execution_count": 7,
   "metadata": {
    "ExecuteTime": {
     "end_time": "2018-11-03T00:26:26.123602Z",
     "start_time": "2018-11-03T00:26:26.091133Z"
    }
   },
   "outputs": [
    {
     "name": "stdout",
     "output_type": "stream",
     "text": [
      "37773872 12796080\n"
     ]
    }
   ],
   "source": [
    "def set_trainable(module,state):\n",
    "    for param in module.parameters():\n",
    "        param.requires_grad = state\n",
    "\n",
    "set_trainable(net,False)\n",
    "\n",
    "set_trainable(net.mb0,True)\n",
    "# set_trainable(net.mb1,True)\n",
    "set_trainable(net.cb,True)\n",
    "\n",
    "set_trainable(net.iresnet0, False)\n",
    "# set_trainable(net.iresnet1, False)\n",
    "\n",
    "for name,module in net.iresnet0.named_modules():\n",
    "    if 'copy_bn' in name:\n",
    "        set_trainable(module, True)\n",
    "    elif 'copy_conv' in name:\n",
    "        set_trainable(module, True)\n",
    "    elif 'wing' in name:\n",
    "        set_trainable(module, True)\n",
    "    else:\n",
    "        set_trainable(module, False)\n",
    "        \n",
    "param_lr = []\n",
    "param_lr.append({'params': net.mb0.parameters(),'lr':1e-3,'momentum':0.9})\n",
    "# param_lr.append({'params': net.mb1.parameters(),'lr':1e-3,'momentum':0.9})\n",
    "param_lr.append({'params': net.cb.parameters(),'lr':1e-3,'momentum':0.9})\n",
    "\n",
    "# for name,module in net.iresnet0.named_modules():\n",
    "#     if 'copy_bn' in name:\n",
    "#         param_lr.append({'params':module.parameters(),'lr':1e-3,'momentum':0.9})\n",
    "#     elif 'copy_conv' in name:\n",
    "#         param_lr.append({'params':module.parameters(),'lr':1e-3,'momentum':0.9})\n",
    "\n",
    "for name,child in net.iresnet0.named_children():\n",
    "    if 'wing' in name:\n",
    "        param_lr.append({'params':child.parameters(),'lr':1e-3,'momentum':0.9})\n",
    "\n",
    "# param_lr = [{'params':net.parameters(),'lr':1e-3, 'momentum':0.9}]\n",
    "net_size = sum([i.numel() for i in net.parameters()])\n",
    "trainable_params = filter(lambda p: p.requires_grad, net.parameters())\n",
    "trainable_size = sum([i.numel() for i in trainable_params])\n",
    "print(net_size,trainable_size)\n",
    "optimizer = optim.SGD(param_lr, weight_decay=1e-4)"
   ]
  },
  {
   "cell_type": "code",
   "execution_count": 8,
   "metadata": {
    "ExecuteTime": {
     "end_time": "2018-11-03T00:26:28.896971Z",
     "start_time": "2018-11-03T00:26:26.125546Z"
    }
   },
   "outputs": [],
   "source": [
    "# net = nn.DataParallel(net, device_ids=[0,1])\n",
    "net = net.cuda()"
   ]
  },
  {
   "cell_type": "code",
   "execution_count": null,
   "metadata": {
    "ExecuteTime": {
     "start_time": "2018-11-02T23:51:07.032Z"
    },
    "scrolled": false
   },
   "outputs": [
    {
     "name": "stdout",
     "output_type": "stream",
     "text": [
      "\n",
      "Step: 20\n",
      "mask_loss\t tensor(0.9160, device='cuda:0', grad_fn=<DivBackward0>)\n",
      "mean_iou\t tensor([9.0797e-02, 2.5538e+03, 2.4404e+04], device='cuda:0')\n",
      "\n",
      "Step: 40\n",
      "mask_loss\t tensor(0.9290, device='cuda:0', grad_fn=<DivBackward0>)\n",
      "mean_iou\t tensor([8.5829e-02, 2.0984e+03, 2.1472e+04], device='cuda:0')\n",
      "\n",
      "Step: 60\n",
      "mask_loss\t tensor(0.9057, device='cuda:0', grad_fn=<DivBackward0>)\n",
      "mean_iou\t tensor([1.2036e-01, 2.8404e+03, 2.0413e+04], device='cuda:0')\n",
      "\n",
      "Step: 80\n",
      "mask_loss\t tensor(0.9067, device='cuda:0', grad_fn=<DivBackward0>)\n",
      "mean_iou\t tensor([1.2747e-01, 2.8952e+03, 1.8505e+04], device='cuda:0')\n",
      "\n",
      "Step: 100\n",
      "mask_loss\t tensor(0.8849, device='cuda:0', grad_fn=<DivBackward0>)\n",
      "mean_iou\t tensor([1.7070e-01, 3.5840e+03, 1.7144e+04], device='cuda:0')\n",
      "\n",
      "Step: 120\n",
      "mask_loss\t tensor(0.8727, device='cuda:0', grad_fn=<DivBackward0>)\n",
      "mean_iou\t tensor([1.9881e-01, 4.0502e+03, 1.6286e+04], device='cuda:0')\n",
      "\n",
      "Step: 140\n",
      "mask_loss\t tensor(0.8866, device='cuda:0', grad_fn=<DivBackward0>)\n",
      "mean_iou\t tensor([1.8191e-01, 3.7148e+03, 1.4938e+04], device='cuda:0')\n",
      "\n",
      "Step: 160\n",
      "mask_loss\t tensor(0.8811, device='cuda:0', grad_fn=<DivBackward0>)\n",
      "mean_iou\t tensor([2.0528e-01, 3.8299e+03, 1.3636e+04], device='cuda:0')\n",
      "\n",
      "Step: 180\n",
      "mask_loss\t tensor(0.8718, device='cuda:0', grad_fn=<DivBackward0>)\n",
      "mean_iou\t tensor([2.1828e-01, 4.2251e+03, 1.4324e+04], device='cuda:0')\n",
      "\n",
      "Step: 200\n",
      "mask_loss\t tensor(0.8954, device='cuda:0', grad_fn=<DivBackward0>)\n",
      "mean_iou\t tensor([1.8005e-01, 3.3787e+03, 1.4113e+04], device='cuda:0')\n",
      "\n",
      "Step: 220\n",
      "mask_loss\t tensor(0.8691, device='cuda:0', grad_fn=<DivBackward0>)\n",
      "mean_iou\t tensor([2.6313e-01, 3.9340e+03, 1.1783e+04], device='cuda:0')\n",
      "\n",
      "Step: 240\n",
      "mask_loss\t tensor(0.8954, device='cuda:0', grad_fn=<DivBackward0>)\n",
      "mean_iou\t tensor([2.0342e-01, 3.3213e+03, 1.2383e+04], device='cuda:0')\n",
      "\n",
      "Step: 260\n",
      "mask_loss\t tensor(0.8277, device='cuda:0', grad_fn=<DivBackward0>)\n",
      "mean_iou\t tensor([3.3339e-01, 5.5441e+03, 1.3136e+04], device='cuda:0')\n",
      "\n",
      "Step: 280\n",
      "mask_loss\t tensor(0.8575, device='cuda:0', grad_fn=<DivBackward0>)\n",
      "mean_iou\t tensor([2.8038e-01, 4.5066e+03, 1.1737e+04], device='cuda:0')\n",
      "\n",
      "Step: 300\n",
      "mask_loss\t tensor(0.8659, device='cuda:0', grad_fn=<DivBackward0>)\n",
      "mean_iou\t tensor([2.7468e-01, 4.1903e+03, 1.1351e+04], device='cuda:0')\n",
      "\n",
      "Step: 320\n",
      "mask_loss\t tensor(0.8632, device='cuda:0', grad_fn=<DivBackward0>)\n",
      "mean_iou\t tensor([2.8362e-01, 4.2227e+03, 1.1671e+04], device='cuda:0')\n",
      "\n",
      "Step: 340\n",
      "mask_loss\t tensor(0.8341, device='cuda:0', grad_fn=<DivBackward0>)\n",
      "mean_iou\t tensor([3.5848e-01, 4.9773e+03, 1.1341e+04], device='cuda:0')\n",
      "\n",
      "Step: 360\n",
      "mask_loss\t tensor(0.8499, device='cuda:0', grad_fn=<DivBackward0>)\n",
      "mean_iou\t tensor([2.9704e-01, 4.7056e+03, 1.1600e+04], device='cuda:0')\n",
      "\n",
      "Step: 380\n",
      "mask_loss\t tensor(0.8510, device='cuda:0', grad_fn=<DivBackward0>)\n",
      "mean_iou\t tensor([3.3998e-01, 4.6434e+03, 1.0359e+04], device='cuda:0')\n",
      "\n",
      "Step: 400\n",
      "mask_loss\t tensor(0.8626, device='cuda:0', grad_fn=<DivBackward0>)\n",
      "mean_iou\t tensor([   0.3164, 4059.4211, 9891.5674], device='cuda:0')\n",
      "\n",
      "Step: 420\n",
      "mask_loss\t tensor(0.8550, device='cuda:0', grad_fn=<DivBackward0>)\n",
      "mean_iou\t tensor([   0.3371, 4458.1294, 9876.1172], device='cuda:0')\n",
      "\n",
      "Step: 440\n",
      "mask_loss\t tensor(0.8287, device='cuda:0', grad_fn=<DivBackward0>)\n",
      "mean_iou\t tensor([3.7861e-01, 5.5004e+03, 1.0857e+04], device='cuda:0')\n",
      "\n",
      "Step: 460\n",
      "mask_loss\t tensor(0.8519, device='cuda:0', grad_fn=<DivBackward0>)\n",
      "mean_iou\t tensor([   0.3281, 4496.8750, 9863.9131], device='cuda:0')\n",
      "\n",
      "Step: 480\n",
      "mask_loss\t tensor(0.8410, device='cuda:0', grad_fn=<DivBackward0>)\n",
      "mean_iou\t tensor([   0.3659, 5072.7456, 9096.7295], device='cuda:0')\n",
      "\n",
      "Step: 500\n",
      "mask_loss\t tensor(0.8384, device='cuda:0', grad_fn=<DivBackward0>)\n",
      "mean_iou\t tensor([   0.3935, 5010.5503, 8905.3965], device='cuda:0')\n",
      "\n",
      "Step: 520\n",
      "mask_loss\t tensor(0.8588, device='cuda:0', grad_fn=<DivBackward0>)\n",
      "mean_iou\t tensor([   0.3508, 4179.7876, 8873.8623], device='cuda:0')\n",
      "\n",
      "Step: 540\n",
      "mask_loss\t tensor(0.8398, device='cuda:0', grad_fn=<DivBackward0>)\n",
      "mean_iou\t tensor([   0.3983, 4742.9624, 9341.7754], device='cuda:0')\n",
      "\n",
      "Step: 560\n",
      "mask_loss\t tensor(0.8289, device='cuda:0', grad_fn=<DivBackward0>)\n",
      "mean_iou\t tensor([   0.4045, 5076.5337, 9453.4082], device='cuda:0')\n",
      "\n",
      "Step: 580\n",
      "mask_loss\t tensor(0.8258, device='cuda:0', grad_fn=<DivBackward0>)\n",
      "mean_iou\t tensor([   0.4017, 5275.6250, 9956.1416], device='cuda:0')\n",
      "\n",
      "Step: 600\n",
      "mask_loss\t tensor(0.8489, device='cuda:0', grad_fn=<DivBackward0>)\n",
      "mean_iou\t tensor([   0.3840, 4442.0171, 8810.7334], device='cuda:0')\n",
      "\n",
      "Step: 620\n",
      "mask_loss\t tensor(0.8754, device='cuda:0', grad_fn=<DivBackward0>)\n",
      "mean_iou\t tensor([   0.3292, 3420.8501, 7654.3374], device='cuda:0')\n",
      "\n",
      "Step: 640\n",
      "mask_loss\t tensor(0.8865, device='cuda:0', grad_fn=<DivBackward0>)\n",
      "mean_iou\t tensor([   0.3001, 3325.1794, 7997.2876], device='cuda:0')\n",
      "\n",
      "Step: 660\n",
      "mask_loss\t tensor(0.8571, device='cuda:0', grad_fn=<DivBackward0>)\n",
      "mean_iou\t tensor([   0.3378, 4415.9463, 8765.1084], device='cuda:0')\n",
      "\n",
      "Step: 680\n",
      "mask_loss\t tensor(0.8357, device='cuda:0', grad_fn=<DivBackward0>)\n",
      "mean_iou\t tensor([   0.4316, 4561.9214, 8313.5547], device='cuda:0')\n",
      "\n",
      "Step: 700\n",
      "mask_loss\t tensor(0.8803, device='cuda:0', grad_fn=<DivBackward0>)\n",
      "mean_iou\t tensor([   0.3144, 3331.9336, 7589.1460], device='cuda:0')\n",
      "\n",
      "Step: 720\n",
      "mask_loss\t tensor(0.8592, device='cuda:0', grad_fn=<DivBackward0>)\n",
      "mean_iou\t tensor([   0.3990, 3906.7837, 7432.1050], device='cuda:0')\n",
      "\n",
      "Step: 740\n",
      "mask_loss\t tensor(0.8233, device='cuda:0', grad_fn=<DivBackward0>)\n",
      "mean_iou\t tensor([   0.4672, 5022.8042, 8015.5337], device='cuda:0')\n",
      "\n",
      "Step: 760\n",
      "mask_loss\t tensor(0.8498, device='cuda:0', grad_fn=<DivBackward0>)\n",
      "mean_iou\t tensor([   0.4258, 4030.5876, 7252.5874], device='cuda:0')\n",
      "\n",
      "Step: 780\n",
      "mask_loss\t tensor(0.8127, device='cuda:0', grad_fn=<DivBackward0>)\n",
      "mean_iou\t tensor([   0.4764, 5477.1963, 8562.1338], device='cuda:0')\n",
      "\n",
      "Step: 800\n",
      "mask_loss\t tensor(0.8391, device='cuda:0', grad_fn=<DivBackward0>)\n",
      "mean_iou\t tensor([   0.3980, 4629.6543, 7658.6870], device='cuda:0')\n",
      "\n",
      "Step: 820\n",
      "mask_loss\t tensor(0.8445, device='cuda:0', grad_fn=<DivBackward0>)\n",
      "mean_iou\t tensor([   0.4194, 4250.2124, 7313.8877], device='cuda:0')\n",
      "\n",
      "Step: 840\n",
      "mask_loss\t tensor(0.8478, device='cuda:0', grad_fn=<DivBackward0>)\n",
      "mean_iou\t tensor([   0.4478, 4060.0876, 6980.6875], device='cuda:0')\n",
      "\n",
      "Step: 860\n",
      "mask_loss\t tensor(0.8270, device='cuda:0', grad_fn=<DivBackward0>)\n",
      "mean_iou\t tensor([   0.4546, 5274.2295, 8027.1167], device='cuda:0')\n",
      "\n",
      "Step: 880\n",
      "mask_loss\t tensor(0.8551, device='cuda:0', grad_fn=<DivBackward0>)\n",
      "mean_iou\t tensor([   0.4094, 3961.0625, 6962.1328], device='cuda:0')\n",
      "\n",
      "Step: 900\n",
      "mask_loss\t tensor(0.8523, device='cuda:0', grad_fn=<DivBackward0>)\n",
      "mean_iou\t tensor([   0.4209, 3825.3625, 6680.9165], device='cuda:0')\n",
      "\n",
      "Step: 920\n",
      "mask_loss\t tensor(0.8075, device='cuda:0', grad_fn=<DivBackward0>)\n",
      "mean_iou\t tensor([   0.5066, 5274.4087, 8323.6045], device='cuda:0')\n",
      "\n",
      "Step: 940\n",
      "mask_loss\t tensor(0.8236, device='cuda:0', grad_fn=<DivBackward0>)\n",
      "mean_iou\t tensor([   0.4782, 4971.0376, 7137.0503], device='cuda:0')\n",
      "\n",
      "Step: 960\n",
      "mask_loss\t tensor(0.8420, device='cuda:0', grad_fn=<DivBackward0>)\n",
      "mean_iou\t tensor([   0.3941, 4783.8169, 8215.8291], device='cuda:0')\n",
      "\n",
      "Step: 980\n",
      "mask_loss\t tensor(0.8159, device='cuda:0', grad_fn=<DivBackward0>)\n",
      "mean_iou\t tensor([   0.5179, 4862.8921, 6953.6797], device='cuda:0')\n"
     ]
    }
   ],
   "source": [
    "ckpt = utils.Checkpoint(iters_per_epoch=20, model_dir=\"./models/\", model_name=\"lol\")\n",
    "for i, data in enumerate(train_loader,0):\n",
    "    optimizer.zero_grad()\n",
    "    \n",
    "    images, impulses, instance_masks, cat_ids = utils.cudify_data(data)\n",
    "    mask_logits, cat_scores = net([images,instance_masks])\n",
    "    mask_loss = L.soft_iou(mask_logits, instance_masks.unsqueeze(1))\n",
    "\n",
    "    loss = mask_loss\n",
    "    mean_iou = L.mean_iou(mask_logits, instance_masks.unsqueeze(1))\n",
    "    ckpt.update({\"mask_loss\":mask_loss, \"mean_iou\":mean_iou}, net)\n",
    "    loss.backward()\n",
    "    optimizer.step()"
   ]
  },
  {
   "cell_type": "code",
   "execution_count": null,
   "metadata": {},
   "outputs": [],
   "source": []
  },
  {
   "cell_type": "code",
   "execution_count": null,
   "metadata": {},
   "outputs": [],
   "source": []
  },
  {
   "cell_type": "code",
   "execution_count": null,
   "metadata": {},
   "outputs": [],
   "source": []
  }
 ],
 "metadata": {
  "kernelspec": {
   "display_name": "Python 3",
   "language": "python",
   "name": "python3"
  },
  "language_info": {
   "codemirror_mode": {
    "name": "ipython",
    "version": 3
   },
   "file_extension": ".py",
   "mimetype": "text/x-python",
   "name": "python",
   "nbconvert_exporter": "python",
   "pygments_lexer": "ipython3",
   "version": "3.6.5"
  }
 },
 "nbformat": 4,
 "nbformat_minor": 2
}

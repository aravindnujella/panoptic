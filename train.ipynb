{
 "cells": [
  {
   "cell_type": "code",
   "execution_count": 1,
   "metadata": {
    "ExecuteTime": {
     "end_time": "2018-10-14T18:49:42.691662Z",
     "start_time": "2018-10-14T18:49:42.178766Z"
    }
   },
   "outputs": [],
   "source": [
    "import importlib\n",
    "\n",
    "import model\n",
    "import pan_loader\n",
    "import base_config\n",
    "import loss_functions as L\n",
    "\n",
    "import utils\n",
    "\n",
    "import torch\n",
    "import torch.optim as optim\n",
    "\n",
    "import os\n",
    "import time\n",
    "os.environ[\"CUDA_DEVICE_ORDER\"] = \"PCI_BUS_ID\"\n",
    "os.environ[\"CUDA_VISIBLE_DEVICES\"] = \"1\"\n"
   ]
  },
  {
   "cell_type": "code",
   "execution_count": 2,
   "metadata": {
    "ExecuteTime": {
     "end_time": "2018-10-14T18:49:42.697119Z",
     "start_time": "2018-10-14T18:49:42.693896Z"
    }
   },
   "outputs": [],
   "source": [
    "data_dir = \"/home/aravind/dataset/\"\n",
    "ann_dir = data_dir + \"annotations/panoptic/\"\n",
    "\n",
    "train_img_dir = data_dir + \"train2017/\"\n",
    "train_seg_dir = ann_dir + \"panoptic_train2017/\"\n",
    "train_ann_json = ann_dir + \"panoptic_train2017.json\"\n",
    "\n",
    "val_img_dir = data_dir + \"val2017/\"\n",
    "val_seg_dir = ann_dir + \"panoptic_val2017/\"\n",
    "val_ann_json = ann_dir + \"panoptic_val2017.json\"\n",
    "\n",
    "train_img_dir = val_img_dir \n",
    "train_seg_dir = val_seg_dir \n",
    "train_ann_json = val_ann_json "
   ]
  },
  {
   "cell_type": "code",
   "execution_count": 3,
   "metadata": {
    "ExecuteTime": {
     "end_time": "2018-10-14T18:49:43.119942Z",
     "start_time": "2018-10-14T18:49:42.698421Z"
    }
   },
   "outputs": [],
   "source": [
    "with open(val_ann_json,\"r\") as f:\n",
    "    val_ann = json.load(f)\n",
    "with open(train_ann_json,\"r\") as f:\n",
    "    train_ann = json.load(f)"
   ]
  },
  {
   "cell_type": "code",
   "execution_count": 4,
   "metadata": {
    "ExecuteTime": {
     "end_time": "2018-10-14T18:49:43.124536Z",
     "start_time": "2018-10-14T18:49:43.121909Z"
    }
   },
   "outputs": [],
   "source": [
    "config = base_config.Config()"
   ]
  },
  {
   "cell_type": "code",
   "execution_count": 5,
   "metadata": {
    "ExecuteTime": {
     "end_time": "2018-10-14T18:49:43.148028Z",
     "start_time": "2018-10-14T18:49:43.126218Z"
    }
   },
   "outputs": [],
   "source": [
    "train_loader = pan_loader.get_loader(train_img_dir, train_seg_dir, train_ann, config)\n",
    "val_loader = pan_loader.get_loader(val_img_dir, val_seg_dir, val_ann, config)"
   ]
  },
  {
   "cell_type": "code",
   "execution_count": null,
   "metadata": {
    "ExecuteTime": {
     "start_time": "2018-10-14T18:15:11.897Z"
    }
   },
   "outputs": [],
   "source": [
    "net = model.hgmodel()\n",
    "net = net.cuda()"
   ]
  },
  {
   "cell_type": "code",
   "execution_count": null,
   "metadata": {
    "ExecuteTime": {
     "start_time": "2018-10-14T18:15:11.898Z"
    }
   },
   "outputs": [],
   "source": [
    "def set_trainable(module,state):\n",
    "    for param in module.parameters():\n",
    "        param.requires_grad = state\n",
    "\n",
    "set_trainable(net,True)\n",
    "# set_trainable(net.mb0,True)\n",
    "# set_trainable(net.mb1,True)\n",
    "# set_trainable(net.cb,True)\n",
    "# for name,child in net.iresnet0.named_children():\n",
    "#     if name[:-1] == \"layer\":\n",
    "#         [set_trainable(s.ignore_filters,True) for s in child[::2]]\n",
    "#         [set_trainable(s.copy_filters,True) for s in child[::2]]\n",
    "\n",
    "# param_lr = []\n",
    "# param_lr.append({'params': net.mp0.parameters(),'lr':1e-2,'momentum':0.9})\n",
    "# param_lr.append({'params': net.class_predictor.parameters(),'lr':1e-3,'momentum':0.9})\n",
    "\n",
    "# for name,child in net.iresnet0.named_children():\n",
    "#     if name[:-1] == \"layer\":\n",
    "#         for s in child[::2]:\n",
    "#             lr = 0\n",
    "#             if int(name[-1]) > 0:\n",
    "#                 lr = 1e-3\n",
    "#             else:\n",
    "#                 lr = 0\n",
    "#             param_lr.append({'params':s.ignore_filters.parameters(),'lr':lr,'momentum':0.9})\n",
    "#             param_lr.append({'params':s.copy_filters.parameters(),'lr':1e-3,'momentum':0.9})\n",
    "\n",
    "param_lr = [{'params':net.parameters(),'lr':1e-3, 'momentum':0.9}]\n",
    "net_size = sum([i.numel() for i in net.parameters()])\n",
    "trainable_params = filter(lambda p: p.requires_grad, net.parameters())\n",
    "trainable_size = sum([i.numel() for i in trainable_params])\n",
    "print(net_size,trainable_size)\n",
    "print(param_lr)\n",
    "optimizer = optim.SGD(param_lr)\n",
    "# scheduler = optim.lr_scheduler.ReduceLROnPlateau(optimizer, mode='min', factor=1, patience=10, verbose=True, threshold=0.0001, threshold_mode='rel', cooldown=100, min_lr=1e-2, eps=1e-08)"
   ]
  },
  {
   "cell_type": "code",
   "execution_count": null,
   "metadata": {
    "ExecuteTime": {
     "start_time": "2018-10-14T18:15:11.901Z"
    }
   },
   "outputs": [],
   "source": [
    "ckpt = utils.Checkpoint(iters_per_epoch=2, model_dir=\"./models/\", model_name=\"first\")\n",
    "\n",
    "for data in iter(train_loader):\n",
    "    optimizer.zero_grad()\n",
    "    \n",
    "    images, impulses, instance_masks, cat_ids = utils.cudify_data(data)\n",
    "    \n",
    "    outs = net([images,impulses])\n",
    "    loss = outs[0].mean()\n",
    "#     loss = L.loss_criterion1(outs)\n",
    "    ckpt.update(loss.data, net)\n",
    "    loss.backward()\n",
    "    del(loss)\n",
    "    optimizer.step()"
   ]
  },
  {
   "cell_type": "code",
   "execution_count": null,
   "metadata": {},
   "outputs": [],
   "source": []
  }
 ],
 "metadata": {
  "kernelspec": {
   "display_name": "Python 3",
   "language": "python",
   "name": "python3"
  },
  "language_info": {
   "codemirror_mode": {
    "name": "ipython",
    "version": 3
   },
   "file_extension": ".py",
   "mimetype": "text/x-python",
   "name": "python",
   "nbconvert_exporter": "python",
   "pygments_lexer": "ipython3",
   "version": "3.6.5"
  }
 },
 "nbformat": 4,
 "nbformat_minor": 2
}

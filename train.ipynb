{
 "cells": [
  {
   "cell_type": "code",
   "execution_count": 1,
   "metadata": {
    "ExecuteTime": {
     "end_time": "2018-10-07T16:13:40.513971Z",
     "start_time": "2018-10-07T16:13:39.990230Z"
    }
   },
   "outputs": [],
   "source": [
    "import importlib\n",
    "\n",
    "import model\n",
    "import pan_loader\n",
    "import base_config\n",
    "import loss\n",
    "\n",
    "import torch\n",
    "import torch.optim as optim\n",
    "\n"
   ]
  },
  {
   "cell_type": "code",
   "execution_count": 2,
   "metadata": {
    "ExecuteTime": {
     "end_time": "2018-10-07T16:13:40.520799Z",
     "start_time": "2018-10-07T16:13:40.516498Z"
    }
   },
   "outputs": [],
   "source": [
    "data_dir = \"/home/aravind/dataset/\"\n",
    "ann_dir = data_dir + \"annotations/panoptic/\"\n",
    "\n",
    "train_img_dir = data_dir + \"train2017/\"\n",
    "train_seg_dir = ann_dir + \"panoptic_train2017/\"\n",
    "train_ann_json = ann_dir + \"panoptic_train2017.json\"\n",
    "\n",
    "val_img_dir = data_dir + \"val2017/\"\n",
    "val_seg_dir = ann_dir + \"panoptic_val2017/\"\n",
    "val_ann_json = ann_dir + \"panoptic_val2017.json\"\n",
    "\n",
    "train_img_dir = val_img_dir \n",
    "train_seg_dir = val_seg_dir \n",
    "train_ann_json = val_ann_json "
   ]
  },
  {
   "cell_type": "code",
   "execution_count": 3,
   "metadata": {
    "ExecuteTime": {
     "end_time": "2018-10-07T16:13:40.950039Z",
     "start_time": "2018-10-07T16:13:40.522641Z"
    }
   },
   "outputs": [],
   "source": [
    "with open(val_ann_json,\"r\") as f:\n",
    "    val_ann = json.load(f)\n",
    "with open(train_ann_json,\"r\") as f:\n",
    "    train_ann = json.load(f)"
   ]
  },
  {
   "cell_type": "code",
   "execution_count": 4,
   "metadata": {
    "ExecuteTime": {
     "end_time": "2018-10-07T16:13:40.955111Z",
     "start_time": "2018-10-07T16:13:40.952538Z"
    }
   },
   "outputs": [],
   "source": [
    "config = base_config.Config()"
   ]
  },
  {
   "cell_type": "code",
   "execution_count": 5,
   "metadata": {
    "ExecuteTime": {
     "end_time": "2018-10-07T16:13:40.978403Z",
     "start_time": "2018-10-07T16:13:40.957235Z"
    }
   },
   "outputs": [],
   "source": [
    "train_loader = pan_loader.get_loader(train_img_dir, train_seg_dir, train_ann, config)\n",
    "val_loader = pan_loader.get_loader(val_img_dir, val_seg_dir, val_ann, config)"
   ]
  },
  {
   "cell_type": "code",
   "execution_count": 6,
   "metadata": {
    "ExecuteTime": {
     "end_time": "2018-10-07T16:13:48.837565Z",
     "start_time": "2018-10-07T16:13:40.980425Z"
    }
   },
   "outputs": [],
   "source": [
    "net = model.hgmodel()\n",
    "# net = net.cuda()"
   ]
  },
  {
   "cell_type": "code",
   "execution_count": null,
   "metadata": {},
   "outputs": [],
   "source": [
    "iters_per_checkpoint = 60\n",
    "for epoch in range(10000):  # loop over the dataset multiple times\n",
    "    running_loss = 0.0\n",
    "    loss1, loss2 = 0.0, 0.0\n",
    "    for i, data in enumerate(train_loader, 0):\n",
    "        batch_images, batch_gt_responses, batch_class_ids, batch_impulses, batch_fn = [\n",
    "            v.cuda(non_blocking=True) for v in data\n",
    "        ]\n",
    "        \n",
    "        # zero the parameter gradients\n",
    "        optimizer.zero_grad()\n",
    "        # forward + backward + optimize\n",
    "        pred_class, pred_masks = net([batch_images, batch_impulses])\n",
    "        # we are giving no weighting for classes...\n",
    "        class_loss, mask_loss = loss_criterion(\n",
    "            pred_class, batch_class_ids, pred_masks, batch_gt_responses)\n",
    "        loss = class_loss + mask_loss\n",
    "        loss.backward()\n",
    "        optimizer.step()\n",
    "        running_loss += loss.item()\n",
    "        loss1 += class_loss.item()\n",
    "        loss2 += mask_loss.item()\n",
    "        if i % iters_per_checkpoint == iters_per_checkpoint - 1:\n",
    "            # scheduler.step((loss1+loss2)/iters_per_checkpoint)\n",
    "            print(\"batch: \", i, \"epoch: \", epoch,\n",
    "                  \"loss: %0.5f\" % (running_loss / iters_per_checkpoint))\n",
    "            print(\"class_loss: %0.5f \\t mask_loss: %0.5f\" %\n",
    "                  (loss1 / iters_per_checkpoint, loss2 / iters_per_checkpoint))\n",
    "            torch.save(net.state_dict(), model_dir + (\"multi.pt\"))\n",
    "            running_loss = 0.0\n",
    "            loss1 = 0.0\n",
    "            loss2 = 0.0\n",
    "print('Finished Training')"
   ]
  }
 ],
 "metadata": {
  "kernelspec": {
   "display_name": "Python 3",
   "language": "python",
   "name": "python3"
  },
  "language_info": {
   "codemirror_mode": {
    "name": "ipython",
    "version": 3
   },
   "file_extension": ".py",
   "mimetype": "text/x-python",
   "name": "python",
   "nbconvert_exporter": "python",
   "pygments_lexer": "ipython3",
   "version": "3.6.5"
  }
 },
 "nbformat": 4,
 "nbformat_minor": 2
}

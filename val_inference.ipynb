{
 "cells": [
  {
   "cell_type": "code",
   "execution_count": null,
   "metadata": {
    "ExecuteTime": {
     "end_time": "2018-10-20T20:52:26.994384Z",
     "start_time": "2018-10-20T20:52:26.473134Z"
    }
   },
   "outputs": [],
   "source": [
    "# code to manually check performance of a model on validation set\n",
    "# !!! skeleton code\n",
    "import model\n",
    "import pan_loader\n",
    "import base_config\n",
    "import loss_functions as L\n",
    "\n",
    "import visualize\n",
    "import utils\n",
    "\n",
    "import torch\n",
    "\n",
    "import os\n",
    "import time\n",
    "os.environ[\"CUDA_DEVICE_ORDER\"] = \"PCI_BUS_ID\"\n",
    "os.environ[\"CUDA_VISIBLE_DEVICES\"] = \"1\"\n"
   ]
  },
  {
   "cell_type": "code",
   "execution_count": null,
   "metadata": {
    "ExecuteTime": {
     "end_time": "2018-10-20T20:52:27.001245Z",
     "start_time": "2018-10-20T20:52:26.996975Z"
    }
   },
   "outputs": [],
   "source": [
    "data_dir = \"/home/aravind/dataset/\"\n",
    "ann_dir = data_dir + \"annotations/panoptic/\"\n",
    "\n",
    "train_img_dir = data_dir + \"train2017/\"\n",
    "train_seg_dir = ann_dir + \"panoptic_train2017/\"\n",
    "train_ann_json = ann_dir + \"panoptic_train2017.json\"\n",
    "\n",
    "val_img_dir = data_dir + \"val2017/\"\n",
    "val_seg_dir = ann_dir + \"panoptic_val2017/\"\n",
    "val_ann_json = ann_dir + \"panoptic_val2017.json\"\n",
    "\n",
    "train_img_dir = val_img_dir \n",
    "train_seg_dir = val_seg_dir \n",
    "train_ann_json = val_ann_json "
   ]
  },
  {
   "cell_type": "code",
   "execution_count": null,
   "metadata": {
    "ExecuteTime": {
     "end_time": "2018-10-20T20:52:27.426831Z",
     "start_time": "2018-10-20T20:52:27.002931Z"
    }
   },
   "outputs": [],
   "source": [
    "with open(val_ann_json,\"r\") as f:\n",
    "    val_ann = json.load(f)\n",
    "with open(train_ann_json,\"r\") as f:\n",
    "    train_ann = json.load(f)"
   ]
  },
  {
   "cell_type": "code",
   "execution_count": null,
   "metadata": {
    "ExecuteTime": {
     "end_time": "2018-10-20T20:52:27.432050Z",
     "start_time": "2018-10-20T20:52:27.429208Z"
    }
   },
   "outputs": [],
   "source": [
    "class InferenceConfig(base_config.Config):\n",
    "    IMAGES_PER_GPU = 1\n",
    "config = InferenceConfig()"
   ]
  },
  {
   "cell_type": "code",
   "execution_count": null,
   "metadata": {
    "ExecuteTime": {
     "end_time": "2018-10-20T20:52:27.455079Z",
     "start_time": "2018-10-20T20:52:27.434152Z"
    }
   },
   "outputs": [],
   "source": [
    "train_loader = pan_loader.get_loader(train_img_dir, train_seg_dir, train_ann, config)\n",
    "val_loader = pan_loader.get_loader(val_img_dir, val_seg_dir, val_ann, config)"
   ]
  },
  {
   "cell_type": "code",
   "execution_count": null,
   "metadata": {
    "ExecuteTime": {
     "end_time": "2018-10-20T20:52:27.460555Z",
     "start_time": "2018-10-20T20:52:27.457558Z"
    }
   },
   "outputs": [],
   "source": [
    "model_dir = \"models/\"\n",
    "model_name = \"first_0.pt\""
   ]
  },
  {
   "cell_type": "code",
   "execution_count": null,
   "metadata": {
    "ExecuteTime": {
     "end_time": "2018-10-20T20:52:35.271026Z",
     "start_time": "2018-10-20T20:52:27.462782Z"
    }
   },
   "outputs": [],
   "source": [
    "net = model.hgmodel()\n",
    "\n",
    "pretrained_dict = torch.load(model_dir+model_name)\n",
    "net_dict = net.state_dict()\n",
    "\n",
    "pretrained_dict = {k: v for k, v in pretrained_dict.items() if k in net_dict}\n",
    "net_dict.update(pretrained_dict) \n",
    "net.load_state_dict(net_dict)\n",
    "\n",
    "net.eval()\n",
    "net = net.cuda()"
   ]
  },
  {
   "cell_type": "code",
   "execution_count": null,
   "metadata": {
    "ExecuteTime": {
     "start_time": "2018-10-20T20:17:43.882Z"
    }
   },
   "outputs": [],
   "source": [
    "for i, data in enumerate(val_loader,0):\n",
    "    print(\"Image:\\t%d\", i)\n",
    "   \n",
    "    images, impulses, instance_masks, cat_ids = utils.cudify_data(data)\n",
    "    \n",
    "    with torch.no_grad():\n",
    "        outs = net([images,impulses])\n",
    "    \n",
    "    pred_masks, pred_class = outs\n",
    "    pred_masks = pred_masks.sigmoid().cpu().numpy()\n",
    "    print(pred_class.shape)\n",
    "    pred_labels = pred_class.argmax(1).cpu().numpy()\n",
    "    print(pred_labels.shape)\n",
    "    # only first item in the batch\n",
    "    print(cat_ids)\n",
    "    images, impulses, instance_masks, cat_ids = [d[0] for d in data]\n",
    "    visualize.visualize_data(images, impulses, instance_masks, cat_ids, config, \"in\")\n",
    "    visualize.visualize_data(images, impulses, pred_masks, pred_labels, config, \"out\")\n",
    "    input()"
   ]
  },
  {
   "cell_type": "code",
   "execution_count": null,
   "metadata": {},
   "outputs": [],
   "source": []
  }
 ],
 "metadata": {
  "kernelspec": {
   "display_name": "Python 3",
   "language": "python",
   "name": "python3"
  },
  "language_info": {
   "codemirror_mode": {
    "name": "ipython",
    "version": 3
   },
   "file_extension": ".py",
   "mimetype": "text/x-python",
   "name": "python",
   "nbconvert_exporter": "python",
   "pygments_lexer": "ipython3",
   "version": "3.6.5"
  }
 },
 "nbformat": 4,
 "nbformat_minor": 2
}

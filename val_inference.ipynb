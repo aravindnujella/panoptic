{
 "cells": [
  {
   "cell_type": "code",
   "execution_count": null,
   "metadata": {
    "ExecuteTime": {
     "end_time": "2018-10-24T17:21:23.739935Z",
     "start_time": "2018-10-24T17:21:23.110499Z"
    }
   },
   "outputs": [],
   "source": [
    "# code to manually check performance of a model on validation set\n",
    "# !!! skeleton code\n",
    "import model\n",
    "import pan_loader\n",
    "import base_config\n",
    "import loss_functions as L\n",
    "\n",
    "\n",
    "import visualize\n",
    "import utils\n",
    "\n",
    "import torch\n",
    "import numpy as np\n",
    "\n",
    "import os\n",
    "import time\n",
    "os.environ[\"CUDA_DEVICE_ORDER\"] = \"PCI_BUS_ID\"\n",
    "os.environ[\"CUDA_VISIBLE_DEVICES\"] = \"0\""
   ]
  },
  {
   "cell_type": "code",
   "execution_count": null,
   "metadata": {
    "ExecuteTime": {
     "end_time": "2018-10-24T17:21:23.749445Z",
     "start_time": "2018-10-24T17:21:23.743179Z"
    }
   },
   "outputs": [],
   "source": [
    "data_dir = \"/home/aravind/dataset/\"\n",
    "ann_dir = data_dir + \"annotations/panoptic/\"\n",
    "\n",
    "train_img_dir = data_dir + \"train2017/\"\n",
    "train_seg_dir = ann_dir + \"panoptic_train2017/\"\n",
    "train_ann_json = ann_dir + \"panoptic_train2017.json\"\n",
    "\n",
    "val_img_dir = data_dir + \"val2017/\"\n",
    "val_seg_dir = ann_dir + \"panoptic_val2017/\"\n",
    "val_ann_json = ann_dir + \"panoptic_val2017.json\"\n",
    "\n",
    "train_img_dir = val_img_dir \n",
    "train_seg_dir = val_seg_dir \n",
    "train_ann_json = val_ann_json "
   ]
  },
  {
   "cell_type": "code",
   "execution_count": null,
   "metadata": {
    "ExecuteTime": {
     "end_time": "2018-10-24T17:21:25.442922Z",
     "start_time": "2018-10-24T17:21:24.851489Z"
    }
   },
   "outputs": [],
   "source": [
    "with open(val_ann_json,\"r\") as f:\n",
    "    val_ann = json.load(f)\n",
    "with open(train_ann_json,\"r\") as f:\n",
    "    train_ann = json.load(f)"
   ]
  },
  {
   "cell_type": "code",
   "execution_count": null,
   "metadata": {
    "ExecuteTime": {
     "end_time": "2018-10-24T17:21:26.836592Z",
     "start_time": "2018-10-24T17:21:26.832573Z"
    }
   },
   "outputs": [],
   "source": [
    "class InferenceConfig(base_config.Config):\n",
    "    IMAGES_PER_GPU = 1\n",
    "config = InferenceConfig()"
   ]
  },
  {
   "cell_type": "code",
   "execution_count": null,
   "metadata": {
    "ExecuteTime": {
     "end_time": "2018-10-24T17:21:28.561300Z",
     "start_time": "2018-10-24T17:21:28.538230Z"
    }
   },
   "outputs": [],
   "source": [
    "train_loader = pan_loader.get_loader(train_img_dir, train_seg_dir, train_ann, config)\n",
    "val_loader = pan_loader.get_loader(val_img_dir, val_seg_dir, val_ann, config)"
   ]
  },
  {
   "cell_type": "code",
   "execution_count": null,
   "metadata": {
    "ExecuteTime": {
     "end_time": "2018-10-24T17:21:29.003752Z",
     "start_time": "2018-10-24T17:21:29.000875Z"
    }
   },
   "outputs": [],
   "source": [
    "model_dir = \"models/\"\n",
    "model_name = \"first_0.pt\""
   ]
  },
  {
   "cell_type": "code",
   "execution_count": null,
   "metadata": {
    "ExecuteTime": {
     "end_time": "2018-10-24T17:21:37.623790Z",
     "start_time": "2018-10-24T17:21:29.925027Z"
    }
   },
   "outputs": [],
   "source": [
    "net = model.hgmodel()\n",
    "\n",
    "pretrained_dict = torch.load(model_dir+model_name)\n",
    "net_dict = net.state_dict()\n",
    "\n",
    "pretrained_dict = {k: v for k, v in pretrained_dict.items() if k in net_dict}\n",
    "net_dict.update(pretrained_dict) \n",
    "net.load_state_dict(net_dict)\n",
    "\n",
    "net.eval()\n",
    "net = net.cuda()"
   ]
  },
  {
   "cell_type": "code",
   "execution_count": null,
   "metadata": {
    "ExecuteTime": {
     "start_time": "2018-10-24T17:08:12.917Z"
    }
   },
   "outputs": [],
   "source": [
    "from PIL import Image\n",
    "for i, data in enumerate(val_loader,0):\n",
    "    print(\"Image:\\t%d\"%i)\n",
    "    images, impulses, instance_masks, cat_ids = utils.cudify_data(data)\n",
    "    \n",
    "    with torch.no_grad():\n",
    "        outs = net([images,impulses])\n",
    "    \n",
    "    pred_masks, pred_class = outs\n",
    "    print(pred_masks.shape, instance_masks[0].shape)\n",
    "    pred_masks = (pred_masks.squeeze().sigmoid()>0.5).cpu()\n",
    "    # Image.fromarray((pred_masks[0].numpy()*255).astype(np.uint8),\"L\").show()\n",
    "    pred_labels = pred_class.argmax(1).cpu()\n",
    "\n",
    "    images, impulses, instance_masks, cat_ids = data\n",
    "    visualize.visualize_targets([images, impulses, instance_masks, cat_ids], config, \"in\")\n",
    "    visualize.visualize_targets([images, impulses, pred_masks, pred_labels], config, \"out\")\n",
    "    input()"
   ]
  },
  {
   "cell_type": "code",
   "execution_count": null,
   "metadata": {
    "ExecuteTime": {
     "start_time": "2018-10-23T10:28:55.266Z"
    }
   },
   "outputs": [],
   "source": [
    "pred_masks.shape"
   ]
  },
  {
   "cell_type": "code",
   "execution_count": null,
   "metadata": {},
   "outputs": [],
   "source": []
  }
 ],
 "metadata": {
  "kernelspec": {
   "display_name": "Python 3",
   "language": "python",
   "name": "python3"
  },
  "language_info": {
   "codemirror_mode": {
    "name": "ipython",
    "version": 3
   },
   "file_extension": ".py",
   "mimetype": "text/x-python",
   "name": "python",
   "nbconvert_exporter": "python",
   "pygments_lexer": "ipython3",
   "version": "3.6.5"
  }
 },
 "nbformat": 4,
 "nbformat_minor": 2
}

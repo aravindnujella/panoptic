{
 "cells": [
  {
   "cell_type": "code",
   "execution_count": null,
   "metadata": {},
   "outputs": [],
   "source": [
    "import numpy as np\n",
    "import random\n",
    "import torch\n",
    "import torch.utils.data as data\n",
    "from PIL import Image\n",
    "from PIL import Image, ImageFont, ImageDraw, ImageEnhance\n",
    "\n",
    "import os\n",
    "import json\n",
    "import os.path\n",
    "import colorsys\n",
    "\n",
    "\n",
    "inf = float('inf')\n",
    "nan = float('nan')"
   ]
  },
  {
   "cell_type": "code",
   "execution_count": null,
   "metadata": {},
   "outputs": [],
   "source": [
    "data_dir = \"/home/aravind/dataset/\"\n",
    "ann_dir = data_dir + \"annotations/panoptic/\"\n",
    "cat_file = ann_dir + \"panoptic_coco_categories.json\"\n",
    "\n",
    "train_dir = data_dir + \"train2017/\"\n",
    "train_seg = ann_dir + \"panoptic_train2017/\"\n",
    "train_json = ann_dir + \"panoptic_train2017.json\"\n",
    "\n",
    "val_dir = data_dir + \"val2017/\"\n",
    "val_seg = ann_dir + \"panoptic_val2017/\"\n",
    "val_json = ann_dir + \"panoptic_val2017.json\""
   ]
  },
  {
   "cell_type": "code",
   "execution_count": null,
   "metadata": {},
   "outputs": [],
   "source": [
    "with open(val_json,\"r\") as f:\n",
    "    val_ann = json.load(f)\n",
    "with open(train_json,\"r\") as f:\n",
    "    train_ann = json.load(f)\n",
    "with open(cat_file,\"r\") as f:\n",
    "    cat_list = json.load(f)\n",
    "\n",
    "coco_cats = {c['id']: c for c in cat_list}\n"
   ]
  },
  {
   "cell_type": "code",
   "execution_count": null,
   "metadata": {},
   "outputs": [],
   "source": [
    "# print(val_ann['annotations'][0].keys())\n",
    "# print(val_ann.keys())\n",
    "# print(val_ann['categories'][:3])\n",
    "# print(coco_cats)\n",
    "# print(val_ann['info'])\n",
    "# print(val_ann['annotations'][0]['image_id'])\n",
    "# print(val_ann[\"annotations\"][0])\n",
    "# print(val_ann['images'])\n",
    "ann = val_ann[\"annotations\"][0]\n",
    "Image.open(val_dir+ann['file_name'].replace('.png','.jpg')).show()\n",
    "# Image.open(val_seg+ann['file_name']).show()\n",
    "# print(coco_cats[23])\n",
    "segmentation = np.array(Image.open(val_seg+ann['file_name']),dtype=np.uint8)\n",
    "segmentation_id = rgb2id(segmentation)\n",
    "for segment_info in ann['segments_info']:\n",
    "    mask = (segmentation_id==segment_info['id'])\n",
    "    Image.fromarray((mask*255).astype(np.uint8),\"L\").show()\n",
    "print(val_ann['images'][0])"
   ]
  },
  {
   "cell_type": "code",
   "execution_count": null,
   "metadata": {},
   "outputs": [],
   "source": [
    "# ann = np.random.choice(val_ann['annotations'])\n",
    "Image.open()\n",
    "for i in range(len(val_ann['annotations'])):\n",
    "    ann = val_ann['annotations'][i]\n",
    "    image_info = val_ann[\"images\"][i]\n",
    "    print(image_info['id'])\n",
    "    print(ann['image_id'])\n",
    "    print(i)\n",
    "# for image_info in val_ann[\"images\"]:\n",
    "#     if image_info['id'] == ann['image_id']:\n",
    "#         print(image_info['id'])"
   ]
  },
  {
   "cell_type": "code",
   "execution_count": null,
   "metadata": {},
   "outputs": [],
   "source": [
    "def rgb2id(color):\n",
    "    return color[:, :, 0] + 256 * color[:, :, 1] + 256 * 256 * color[:, :, 2]"
   ]
  },
  {
   "cell_type": "code",
   "execution_count": null,
   "metadata": {},
   "outputs": [],
   "source": []
  }
 ],
 "metadata": {
  "kernelspec": {
   "display_name": "Python 3",
   "language": "python",
   "name": "python3"
  },
  "language_info": {
   "codemirror_mode": {
    "name": "ipython",
    "version": 3
   },
   "file_extension": ".py",
   "mimetype": "text/x-python",
   "name": "python",
   "nbconvert_exporter": "python",
   "pygments_lexer": "ipython3",
   "version": "3.6.5"
  }
 },
 "nbformat": 4,
 "nbformat_minor": 2
}
